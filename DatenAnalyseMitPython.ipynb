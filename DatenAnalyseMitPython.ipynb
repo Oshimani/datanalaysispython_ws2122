{
 "cells": [
  {
   "cell_type": "markdown",
   "metadata": {},
   "source": [
    "### Inhaltsverzeichnis\n",
    "\n",
    "* [1. Business Understanding](#chapter1)\n",
    "    * [1.1. Projektbeschreibung](#section_1_1)\n",
    "    * [1.2. train Dictionary](#section_1_2)\n",
    "* [2. Data Understanding](#chapter2)\n",
    "    * [2.1. Pakete importieren](#section_2_1)\n",
    "    * [2.2. Daten einlesen](#section_2_2)\n",
    "    * [2.3. Datensatz anzeigen](#section_2_3)\n",
    "    * [2.4. Spaltennamen und Datentypen](#section_2_4)\n",
    "    * [2.5. Datentypen anpassen](#section_2_5)\n",
    "        * [2.5.1 Variable Age](#section_2_5_1)\n",
    "        * [2.5.2 Variablen Driving_License, Previously_Insured und Vehicle_Damage](#section_2_5_2)\n",
    "        * [2.5.3 Variable Gender](#section_2_5_3)\n",
    "        * [2.5.4 Variable Region Code](#section_2_5_4)\n",
    "        * [2.5.5 Variable Vehicle_Age](#section_2_5_5)\n",
    "        * [2.5.6 Variable Policy_Sales_Channel](#section_2_5_6)\n",
    "        * [2.5.7 Variable Vintage](#section_2_5_7)\n",
    "        * [2.5.8 Variable Unnamed: 0](#section_2_5_8)\n",
    "        * [2.5.9 Angepasste Datentypen anzeigen](#section_2_5_9)\n",
    "    * [2.6. Deskriptive Analyse](#section_2_6)\n",
    "        * [2.6.1 Kennzahlen zur Beschreibung des Datensatz](#section_2_6_1)\n",
    "        * [2.6.2 Prüfung auf Missing Values](#section_2_6_2)\n",
    "    * [2.7. Korrelation der Variablen](#section_2_7)\n",
    "    * [2.8. Interpretation der Variablen](#section_2_8)\n",
    "        * [2.8.1 Interpretation der Variable Gender](#section_2_8_1)\n",
    "        * [2.8.2 Interpretation der Variable Age](#section_2_8_2)\n",
    "        * [2.8.3 Interpretation der Variable Driving_License](#section_2_8_3)\n",
    "        * [2.8.4 Interpretation der Variable Region_Code](#section_2_8_4)\n",
    "        * [2.8.5 Interpretation der Variable Previously_Insured](#section_2_8_5)\n",
    "        * [2.8.6 Interpretation der Variable Vehicle_Age](#section_2_8_6)\n",
    "        * [2.8.7 Interpretation der Variable Vehicle_Damage](#section_2_8_7)\n",
    "        * [2.8.8 Interpretation der Variable Annual_Premium](#section_2_8_8)\n",
    "        * [2.8.9 Interpretation der Variable Policy_Sales_Channel](#section_2_8_9)\n",
    "        * [2.8.10 Interpretation der Variable Vintage](#section_2_8_10)\n",
    "        * [2.8.11 Interpretation der Variable Response](#section_2_8_11)\n",
    "* [3. Data Preparation](#chapter3)\n",
    "    * [3.1. Ausreißer behandeln](#section_3_1)\n",
    "        * [3.1.1 Ausreißer innerhalb der Variable Age](#section_3_1_1)\n",
    "        * [3.1.2 Ausreißer innerhalb der Variable Annual_Premium](#section_3_1_2)\n",
    "    * [3.2. Analyse der nicht vorhandenen Werte](#section_3_2)\n",
    "        * [3.2.1 Löschen der 51 fehlerhaften Datensätze](#section_3_2_1)\n",
    "    * [3.3. Imputation der fehlenden Werte](#section_3_3)\n",
    "        * [3.3.1 Variante 1: Ersetzung der fehlenden Werte durch den Mittelwert](#section_3_3_1)\n",
    "            * [3.3.1.1 Imputation der Variable Age](#section_3_3_1_1)\n",
    "            * [3.3.1.2 Imputation der Variable Annual Premium](#section_3_3_1_2)\n",
    "        * [3.3.2 Variante 2: Ersetzung der fehlenden Werte durch den Median](#section_3_3_2)\n",
    "            * [3.3.2.1 Imputation der Variable Age](#section_3_3_2_1)\n",
    "            * [3.3.2.2 Imputation der Variable Annual Premium](#section_3_3_2_2)\n",
    "        * [3.3.3 Variante 3: Ersetzung der fehlenden Werte durch Hot Code Imputation (LOCF)](#section_3_3_3)\n",
    "            * [3.3.3.1 Imputation der Variable Age](#section_3_3_3_1)\n",
    "            * [3.3.3.2 Imputation der Variable Annual Premium](#section_3_3_3_2)\n",
    "        * [3.3.4 Variante 4: Ersetzung der fehlenden Werte kategorialer Variablen](#section_3_3_4)\n",
    "            * [3.3.4.1 Imputation der Variable Gender](#section_3_3_3_1)\n",
    "        * [3.3.5 Fazit](#section_3_3_5)\n",
    "    * [3.4. Sampling](#section_3_4)\n",
    "        * [3.4.1. Undersampling](#section_3_4_1)\n",
    "        * [3.4.2. Oversampling](#section_3_4_2)\n",
    "    * [3.5. Feature Engineering](#section_3_5)\n",
    "        * [3.5.1. Altersklassen als Feature](#section_3_5_1)\n",
    "        * [3.5.2. Features durch Aggregationen, Differenzen und Verhältnisse](#section_3_5_2)\n",
    "        * [3.5.3. weitere Features](#section_3_5_5)\n",
    "    * [3.6. Feature Selection](#section_3_6)\n",
    "    * [3.7. Final Preprocessing](#section_3_7)\n",
    "* [4. Modeling](#chapter4)\n",
    "    * [4.1. Aufteilung in Test- und Trainingsdaten](#section_4_1)\n",
    "    * [4.2. Modell: RandomForest](#section_4_2)\n",
    "* [5. Evaluation](#chapter5)\n",
    "* [6. Anwendung](#chapter6)\n",
    "* [7. Deployment](#chapter7)\n",
    "\n",
    "* [Model Explainer mit SHAP Values](#chapter8)\n",
    "\n",
    "    * [Fazit zum Model Explainer mit SHAP Values](#section_8_1)\n",
    "        "
   ]
  },
  {
   "cell_type": "markdown",
   "metadata": {},
   "source": [
    "### 1. Business Understanding <a class=\"anchor\" id=\"chapter1\"></a>"
   ]
  },
  {
   "cell_type": "markdown",
   "metadata": {},
   "source": [
    "#### 1.1 Projektbeschreibung <a class=\"anchor\" id=\"section_1_1\"></a>"
   ]
  },
  {
   "cell_type": "markdown",
   "metadata": {},
   "source": [
    "Das Forschungsteam *ProInsurance* wird damit beauftragt, dass Projekt Cross-Selling-Prediction für den Kunden *NextGen Insurance* durchzuführen. \n",
    "Der Kunde benötigt Hilfe bei der Erstellung eines Modells, mit dem sich vorhersagen lässt, ob die Versicherungsnehmer des letzten Jahres auch an einer angebotenen Kfz-Versicherung interessiert sein werden.\n",
    "Der Kunde wünscht die Durchführung des Projektes innerhalb eines knapp kalkulierten Zeitraums.\n",
    "\n",
    "Zu diesem Zweck erhält das Forschungsteam von ihrem Auftraggeber einen Datenbestand bestehend aus > 300.000 Datensätzen. Zusätzlich ein Data Dictionary, welches eine kurze Beschreibung der Daten liefert.\n",
    "\n",
    "Die *NextGen Insurance* hat mehrere Forschungsteams beauftragt an einer Lösung zu arbeiten, damit Sie sich nach Ende der Präsentationen für die beste Alternative entscheiden können."
   ]
  },
  {
   "cell_type": "markdown",
   "metadata": {},
   "source": [
    "#### 1.2 Data Dictionary <a class=\"anchor\" id=\"section_1_2\"></a>"
   ]
  },
  {
   "cell_type": "markdown",
   "metadata": {},
   "source": [
    "Unser Auftraggeber die *NextGen Insurance* stellt uns folgendes Data Dictionary und damit verbunden folgende Beschreibungen der einzelnen Variablen zur Verfügung:\n",
    "\n",
    "**1 - id : Unique ID for the customer<br>\n",
    "2 - Gender : Gender of the customer<br>\n",
    "3 - Age : Age of the customer <br>\n",
    "4 - Driving_License : 0 : Customer doesn't have DL, 1 : Customer has DL<br>\n",
    "5 - Region_Code : Unique code for the region of the customer<br>\n",
    "6 - Previously_Insured : 0 : Customer doesn't have Vehicle Insurance, 1 : Customer has Vehicle Insurance<br> \n",
    "7 - Vehicle_Age : Age of the Vehicle<br>\n",
    "8 - Vehicle_Damage : 1 : Customer got his/her vehicle damaged in the past. 0 : Customer didn't get his/her vehicle damaged in the past<br>\n",
    "9 - Annual_Premium : The amount customer needs to pay as premium in the year for Health insurance<br>\n",
    "10 - Policy_Sales_Channel : Anonymized Code for the channel of outreaching to the customer ie. Different Agents, Over Mail, Over Phone, In Person, etc.<br>\n",
    "11 - Vintage : Number of Days customer has been associated with the company<br>\n",
    "12 - Response : 1 : Customer is interested, 0 : Customer is not interested**"
   ]
  },
  {
   "cell_type": "markdown",
   "metadata": {},
   "source": [
    "### 2. Data Understanding <a class=\"anchor\" id=\"chapter2\"></a>"
   ]
  },
  {
   "cell_type": "markdown",
   "metadata": {},
   "source": [
    "#### 2.1 Pakete importieren <a class=\"anchor\" id=\"section_2_1\"></a>"
   ]
  },
  {
   "cell_type": "code",
   "execution_count": null,
   "metadata": {},
   "outputs": [],
   "source": [
    "import pandas as pd\n",
    "from pandas.api.types import CategoricalDtype\n",
    "import numpy as np\n",
    "from matplotlib import pyplot as plt\n",
    "import seaborn as sns\n",
    "from sklearn.impute import SimpleImputer\n",
    "import sklearn as sk\n",
    "from sklearn.impute import KNNImputer\n",
    "\n",
    "from imblearn.under_sampling import RandomUnderSampler\n",
    "from imblearn.over_sampling import RandomOverSampler\n"
   ]
  },
  {
   "cell_type": "code",
   "execution_count": null,
   "metadata": {},
   "outputs": [],
   "source": [
    "# SETUP\n",
    "# OPTIONS: \"simple_mean\" | \"simple_median\" | \"hot_code_locf\"\n",
    "age_imputer = \"simple_mean\"\n",
    "# OPTIONS: \"simple_mean\" | \"simple_median\" | \"hot_code_locf\"\n",
    "annual_premium_imputer = \"simple_mean\"\n"
   ]
  },
  {
   "cell_type": "markdown",
   "metadata": {},
   "source": [
    "#### 2.2 Daten einlesen <a class=\"anchor\" id=\"section_2_2\"></a>"
   ]
  },
  {
   "cell_type": "markdown",
   "metadata": {},
   "source": [
    "Der Datensatz wurde von der *NextGen Insurance* bereitgestellt.<br>\n",
    "Der Datensatz wird zur Analyse eingelesen:\n",
    "- Entfernung des Trennzeichen \"$\".\n",
    "- Umwandlung von Zelleninhalten in Wahrheitswerte (Yes, yes, 1; No, no, 0).\n",
    "- Einrücken des Datensatzes."
   ]
  },
  {
   "cell_type": "code",
   "execution_count": null,
   "metadata": {},
   "outputs": [],
   "source": [
    "train = pd.read_csv(\n",
    "    \"train.csv\",\n",
    "    sep=\"$\",\n",
    "    true_values=[\"Yes\", \"yes\", \"1\"],\n",
    "    false_values=[\"No\", \"no\", \"0\"],\n",
    "    index_col=False,\n",
    "    low_memory=False,\n",
    ")\n",
    "\n",
    "test = pd.read_csv(\n",
    "    \"test.csv\",\n",
    "    sep=\"\\$|,\",  # this csv uses 2 different separators\n",
    "    true_values=[\"Yes\", \"yes\", \"1\"],\n",
    "    false_values=[\"No\", \"no\", \"0\"],\n",
    "    index_col=False,\n",
    "    header=None,\n",
    "    engine=\"python\"  # c engine does not support regex or multiple separators\n",
    ")\n"
   ]
  },
  {
   "cell_type": "markdown",
   "metadata": {},
   "source": [
    "#### 2.3 Datensatz Anzeigen <a class=\"anchor\" id=\"section_2_3\"></a>"
   ]
  },
  {
   "cell_type": "markdown",
   "metadata": {},
   "source": [
    "Zur Betrachtung der Variablen aus dem Datensatz werden die ersten zwanzig Einträge angezeigt:"
   ]
  },
  {
   "cell_type": "code",
   "execution_count": null,
   "metadata": {},
   "outputs": [],
   "source": [
    "train.head(20)\n"
   ]
  },
  {
   "cell_type": "markdown",
   "metadata": {},
   "source": [
    "#### 2.4 Spaltennamen und Datentypen <a class=\"anchor\" id=\"section_2_4\"></a>"
   ]
  },
  {
   "cell_type": "markdown",
   "metadata": {},
   "source": [
    "Um eventuelle Korrekturen vorzunehmen betrachten wir die Datentypen der im Datensatz enthaltenen Variablen.<br>\n",
    "- Die Spalten **Driving_License**, **Previously_Insured**, und **Vehicle_Damage** wurden nicht in den booleschen Datentypen gecastet. Dies ist ein Indikator dafür das diese Spalten invalide oder fehlende Werte enthalten.\n",
    "- Die Spalte **Age** wurde nicht in einen Integer oder Float gecastet, auch hier ist dies ein Indikator dafür, dass diese Spalte invalide oder fehlende Werte enthält. "
   ]
  },
  {
   "cell_type": "code",
   "execution_count": null,
   "metadata": {},
   "outputs": [],
   "source": [
    "train.info()\n"
   ]
  },
  {
   "cell_type": "markdown",
   "metadata": {},
   "source": [
    "#### 2.5 Datentypen anpassen <a class=\"anchor\" id=\"section_2_5\"></a>"
   ]
  },
  {
   "cell_type": "markdown",
   "metadata": {},
   "source": [
    "- Die zum Pandas Modul zugehörige Funktion \".unique()\" ermöglicht die Ausgabe aller einzigartigen Werte. Dies erleichtert das Nachvollziehen von Eingabefehlern um diese zu korrigieren.\n",
    "- Der Numpy-Datentyp `int64` unterstützt keine nullable Values (NaN), deshalb wird der Pandas-Datentyp `Int64` verwendet."
   ]
  },
  {
   "cell_type": "markdown",
   "metadata": {},
   "source": [
    "##### 2.5.1 Variable Age <a class=\"anchor\" id=\"section_2_5_1\"></a>"
   ]
  },
  {
   "cell_type": "markdown",
   "metadata": {},
   "source": [
    "- Die letzten Werte beinhalten Eingabefehler. Bevor der Datentyp umgewandelt werden kann müssen die zwei Punkte (..) nach den Zahlen entfernt werden. "
   ]
  },
  {
   "cell_type": "code",
   "execution_count": null,
   "metadata": {},
   "outputs": [],
   "source": [
    "train[\"Age\"].unique()\n"
   ]
  },
  {
   "cell_type": "markdown",
   "metadata": {},
   "source": [
    "Aus dieser Ausgabe kann man sehen, dass einige fehlerhaften Eingaben getätigt wurden (z.B. \"29..\"). Da die Werte dieser Datensätze aber inhaltlich richtig sein könnten, sollen sie behalten werden. Durch das Casten in den String-Datentyp können die fehlerhaften Sonderzeichen entfertnt werden. Aschließend wird die Variable in den gewünschten Integer-Datentypen gecastet."
   ]
  },
  {
   "cell_type": "code",
   "execution_count": null,
   "metadata": {},
   "outputs": [],
   "source": [
    "# convert to string\n",
    "train[\"Age\"] = train[\"Age\"].astype(pd.StringDtype())\n",
    "\n",
    "# remove .. as this is what prevents us from propper type conversion\n",
    "train[\"Age\"] = train[\"Age\"].str.replace(\".\", \"\")\n",
    "\n",
    "# convert to int (no decimals observed in train data)\n",
    "train[\"Age\"] = train[\"Age\"].astype(\"Int64\")\n"
   ]
  },
  {
   "cell_type": "markdown",
   "metadata": {},
   "source": [
    "##### 2.5.2 Variablen Driving_License, Previously_Insured und Vehicle_Damage <a class=\"anchor\" id=\"section_2_5_2\"></a>"
   ]
  },
  {
   "cell_type": "markdown",
   "metadata": {},
   "source": [
    "- Die Spalten beinhalten fehlende Werte (NaN). Damit die fehlenden Werte ordnungsgemäß behandelt werden können, müssen die Spalten in den nullable Boolean Type gecastet werden."
   ]
  },
  {
   "cell_type": "code",
   "execution_count": null,
   "metadata": {},
   "outputs": [],
   "source": [
    "print(\"Driving_License:\", train[\"Driving_License\"].unique())\n",
    "print(\"Previously_Insured:\", train[\"Previously_Insured\"].unique())\n",
    "print(\"Vehicle_Damage:\", train[\"Vehicle_Damage\"].unique())\n"
   ]
  },
  {
   "cell_type": "markdown",
   "metadata": {},
   "source": [
    "Die Ausgabe weist darauf hin, dass diese Variablen richtig einglesen werden konnten und es keine (inhaltlich) falschen Ausprägungen gibt. Es gibt nur `True`, `False` und fehlende Werte. "
   ]
  },
  {
   "cell_type": "code",
   "execution_count": null,
   "metadata": {},
   "outputs": [],
   "source": [
    "# convert each column\n",
    "train[\"Driving_License\"] = train[\"Driving_License\"].astype(pd.BooleanDtype())\n",
    "train[\"Previously_Insured\"] = train[\"Previously_Insured\"].astype(\n",
    "    pd.BooleanDtype())\n",
    "train[\"Vehicle_Damage\"] = train[\"Vehicle_Damage\"].astype(pd.BooleanDtype())\n"
   ]
  },
  {
   "cell_type": "markdown",
   "metadata": {},
   "source": [
    "##### 2.5.3 Variable Gender <a class=\"anchor\" id=\"section_2_5_3\"></a>"
   ]
  },
  {
   "cell_type": "code",
   "execution_count": null,
   "metadata": {},
   "outputs": [],
   "source": [
    "train[\"Gender\"].unique()\n"
   ]
  },
  {
   "cell_type": "code",
   "execution_count": null,
   "metadata": {},
   "outputs": [],
   "source": [
    "train[\"Gender\"] = train[\"Gender\"].astype(pd.CategoricalDtype())\n"
   ]
  },
  {
   "cell_type": "markdown",
   "metadata": {},
   "source": [
    "##### 2.5.4 Variable Region Code <a class=\"anchor\" id=\"section_2_5_4\"></a>"
   ]
  },
  {
   "cell_type": "markdown",
   "metadata": {},
   "source": [
    "- Der letzte Werte beinhaltet einen Eingabefehler. Bevor der Datentyp umgewandelt werden kann muss nach der 41.0 die zwei Rautezeichen (##) entfernt werden."
   ]
  },
  {
   "cell_type": "code",
   "execution_count": null,
   "metadata": {},
   "outputs": [],
   "source": [
    "train[\"Region_Code\"].unique()\n"
   ]
  },
  {
   "cell_type": "code",
   "execution_count": null,
   "metadata": {},
   "outputs": [],
   "source": [
    "# convert to string\n",
    "train[\"Region_Code\"] = train[\"Region_Code\"].astype(pd.StringDtype())\n",
    "\n",
    "# remove ## as this is what prevents us from propper type conversion\n",
    "train[\"Region_Code\"] = train[\"Region_Code\"].str.replace(\"#\", \"\")\n",
    "\n",
    "# convert to category as the region codes are similar to postal codes and have no order\n",
    "train[\"Region_Code\"] = train[\"Region_Code\"].astype(pd.CategoricalDtype())\n"
   ]
  },
  {
   "cell_type": "markdown",
   "metadata": {},
   "source": [
    "##### 2.5.5 Variable Vehicle_Age <a class=\"anchor\" id=\"section_2_5_5\"></a>"
   ]
  },
  {
   "cell_type": "code",
   "execution_count": null,
   "metadata": {},
   "outputs": [],
   "source": [
    "train[\"Vehicle_Age\"].unique()\n"
   ]
  },
  {
   "cell_type": "code",
   "execution_count": null,
   "metadata": {},
   "outputs": [],
   "source": [
    "# no cleanup required\n",
    "train[\"Vehicle_Age\"] = train[\"Vehicle_Age\"].astype(pd.CategoricalDtype())\n"
   ]
  },
  {
   "cell_type": "markdown",
   "metadata": {},
   "source": [
    "##### 2.5.6 Variable Policy_Sales_Channel <a class=\"anchor\" id=\"section_2_5_6\"></a>"
   ]
  },
  {
   "cell_type": "markdown",
   "metadata": {},
   "source": [
    "- Ein Wert beinhaltet einen Eingabefehler. Bevor der Datentyp umgewandelt werden kann muss nach der 26.0 die zwei Rautezeichen (##) entfernt werden."
   ]
  },
  {
   "cell_type": "code",
   "execution_count": null,
   "metadata": {},
   "outputs": [],
   "source": [
    "train[\"Policy_Sales_Channel\"].unique()\n"
   ]
  },
  {
   "cell_type": "code",
   "execution_count": null,
   "metadata": {},
   "outputs": [],
   "source": [
    "# remove ## as this is what prevents us from propper type conversion\n",
    "train[\"Policy_Sales_Channel\"] = train[\"Policy_Sales_Channel\"].str.replace(\n",
    "    \"#\", \"\")\n",
    "\n",
    "train[\"Policy_Sales_Channel\"] = train[\"Policy_Sales_Channel\"].astype(\n",
    "    pd.CategoricalDtype()\n",
    ")\n"
   ]
  },
  {
   "cell_type": "markdown",
   "metadata": {},
   "source": [
    "##### 2.5.7 Variable Vintage <a class=\"anchor\" id=\"section_2_5_7\"></a>"
   ]
  },
  {
   "cell_type": "markdown",
   "metadata": {},
   "source": [
    "- Ein Wert beinhaltet einen Eingabefehler. Bevor der Datentyp umgewandelt werden kann muss nach der 81 die zwei Rautezeichen (##) entfernt werden.\n",
    "- Der Numpy-Datentyp `int64` unterstützt keine nullable Values (NaN), deshalb wird der Pandas-Datentyp `Int64` verwendet."
   ]
  },
  {
   "cell_type": "code",
   "execution_count": null,
   "metadata": {},
   "outputs": [],
   "source": [
    "train[\"Vintage\"].unique()\n"
   ]
  },
  {
   "cell_type": "code",
   "execution_count": null,
   "metadata": {},
   "outputs": [],
   "source": [
    "# convert to string\n",
    "train[\"Vintage\"] = train[\"Vintage\"].astype(pd.StringDtype())\n",
    "\n",
    "# remove ## as this is what prevents us from propper type conversion\n",
    "train[\"Vintage\"] = train[\"Vintage\"].str.replace(\"#\", \"\")\n",
    "\n",
    "# convert to category as the region codes are similar to postal codes and have no order\n",
    "train[\"Vintage\"] = train[\"Vintage\"].astype(\"Int64\")\n"
   ]
  },
  {
   "cell_type": "markdown",
   "metadata": {},
   "source": [
    "##### 2.5.8 Variable Unnamed: 0 <a class=\"anchor\" id=\"section_2_5_8\"></a>"
   ]
  },
  {
   "cell_type": "markdown",
   "metadata": {},
   "source": [
    "- Die Spalte Unnamed: 0 hat keine Information und wird entfernt."
   ]
  },
  {
   "cell_type": "code",
   "execution_count": null,
   "metadata": {},
   "outputs": [],
   "source": [
    "train.drop(\"Unnamed: 0\", axis=\"columns\", inplace=True)\n"
   ]
  },
  {
   "cell_type": "markdown",
   "metadata": {},
   "source": [
    "##### 2.5.9 Angepasste Datentypen anzeigen <a class=\"anchor\" id=\"section_2_5_9\"></a>"
   ]
  },
  {
   "cell_type": "code",
   "execution_count": null,
   "metadata": {},
   "outputs": [],
   "source": [
    "train.info()\n"
   ]
  },
  {
   "cell_type": "markdown",
   "metadata": {},
   "source": [
    "#### 2.6 Deskriptive Analyse <a class=\"anchor\" id=\"section_2_6\"></a>"
   ]
  },
  {
   "cell_type": "markdown",
   "metadata": {},
   "source": [
    "##### 2.6.1 Kennzahlen zur Beschreibung des Datensatz <a class=\"anchor\" id=\"section_2_6_1\"></a>"
   ]
  },
  {
   "cell_type": "markdown",
   "metadata": {},
   "source": [
    "Folgende statistische Kennzahlen werden verwenden:"
   ]
  },
  {
   "cell_type": "code",
   "execution_count": null,
   "metadata": {},
   "outputs": [],
   "source": [
    "train.describe(include=\"all\").transpose()\n"
   ]
  },
  {
   "cell_type": "markdown",
   "metadata": {},
   "source": [
    "Auffälligkeiten einzelner Variablen anhand der statistischen Kennzahlen werden im nachfolgenden näher erläutert:"
   ]
  },
  {
   "cell_type": "markdown",
   "metadata": {},
   "source": [
    "| **Variable**          | **Beschreibung**  | \n",
    "|          :-           |         :-        |\n",
    "| ID                    |- Beginnt bei 1 und endet bei 380.999 <br> - weißt keine Auffälligkeiten auf| \n",
    "| Gender                |- Das Geschlecht \"Male\" kommt am häufigsten vor mit 205.447 Datensätzen <br> - 2 verschiedene Ausprägungen <br> - 1051 Datensätze fehlen (Vergleich von 379.948 zu 380.999 Datensätzen) | \n",
    "| Age                   |- min. = 20 Jahre alt nicht auffällig <br> - Im Durchschnitt 39 Jahre alt <br> - max. = 205 Jahre alt <br> - 10.892 Datensätze fehlen (Vergleich von 370.107 zu 380.999 Datensätzen) | \n",
    "| Driving_License       |- Mehr Personen haben keinen Führerschein mit 206.635 Datensätzen als das Sie einen Führerschein haben <br> - 2 verschiedene Ausprägungen <br> - 51 Datensätze fehlen (Vergleich von 380.948 zu 380.999 Datensätzen) | \n",
    "| Region_Code           |- Die PLZ 28.0 kommt am häufigsten vor mit 106.372 Datensätzen <br> - 53 verschiedene Ausprägungen | \n",
    "| Previously_Insured    |- Mehr Personen haben keine Versicherung mit 206.635 Datensätzen als das Sie eine Versicherung haben <br> - 2 verschiedene Ausprägungen <br> - 51 Datensätze fehlen (Vergleich von 380.948 zu 380.999 Datensätzen) | \n",
    "| Vehicle_Age           |- Das Alter des Fahrzeugs beläuft sich auf bei den meisten Personen auf 1-2 Jahre mit 380.948 Datensätzen <br> - 3 verschiedene Ausprägungen <br> - 51 Datensätze fehlen (Vergleich von 380.948 zu 380.999 Datensätzen) | \n",
    "| Vehicle_Damage        |- Bei mehr Personen, 192.328 Datensätze, ist es zu einem Schadensfall gekommen <br> - 2 verschiedene Ausprägungen <br> - 51 Datensätze fehlen (Vergleich von 380.948 zu 380.999 Datensätzen) | \n",
    "| Annual_Premium        |- min. = -9997.0€ auffällig, da der Betrag den die Kunden zahlen müssen nicht negativ sein kann. <br> - Im Durchschnitt 30.527.71€ <br> - max. = 540.165€ auffällig, da der Betrag deutlich zu hoch ist | \n",
    "| Policy_Sales_Channel  |- 155 verschiedene Ausprägungen | \n",
    "| Vintage               |- min. = 10 Tage <br> - Im Durchschnitt 154 Tage <br> - max. = 299 Tage <br> - 51 Datensätze fehlen (Vergleich von 380.948 zu 380.999 Datensätzen) | \n",
    "| Response              |- Mehr Personen sind nicht interessiert mit 334.297\tDatensätzen <br> - 2 verschiedene Ausprägungen | \n"
   ]
  },
  {
   "cell_type": "markdown",
   "metadata": {},
   "source": [
    "##### 2.6.2 Prüfung auf Missing Values <a class=\"anchor\" id=\"section_2_6_2\"></a>"
   ]
  },
  {
   "cell_type": "markdown",
   "metadata": {},
   "source": [
    "Die zum Pandas Modul zugehörige Funktion \".isna()\" ermöglicht die Ausgabe aller Missing Values (NA Values)."
   ]
  },
  {
   "cell_type": "code",
   "execution_count": null,
   "metadata": {},
   "outputs": [],
   "source": [
    "train.isna().sum()\n"
   ]
  },
  {
   "cell_type": "markdown",
   "metadata": {},
   "source": [
    "Die Überprüfung auf missing Values zeigt, dass vor allem für die Variable `Age` Werte imputiert werden sollten. In der Spalte `Gender` fehlen rund 1000 Werte. Weiter sieht man, dass in den Spalten `Driving_License`, `Previously_Insured`, `Vehicle_Age`, `Vehicle_Damage` und `Vintage` genau 51 Werte fehlen. Das deutet darauf hin, dass diese missing Values zu den selben Datensätzen gehören, was nachfolgend überprüft wird."
   ]
  },
  {
   "cell_type": "code",
   "execution_count": null,
   "metadata": {},
   "outputs": [],
   "source": [
    "# look for the 51\n",
    "# len(train.loc[train[\"Vintage\"].isna()]) # => 51 entities\n",
    "# len(train.loc[train[\"Vintage\"].isna() & train[\"Vehicle_Damage\"].isna()]) # => 51 entities\n",
    "# len(train.loc[train[\"Vintage\"].isna() & train[\"Vehicle_Damage\"].isna() & train[\"Vehicle_Age\"].isna()]) # => 51 entities\n",
    "# len(train.loc[train[\"Vintage\"].isna() & train[\"Vehicle_Damage\"].isna() & train[\"Vehicle_Age\"].isna() & train[\"Previously_Insured\"].isna()]) # => 51 entities\n",
    "# len(train.loc[train[\"Vintage\"].isna() & train[\"Vehicle_Damage\"].isna() & train[\"Vehicle_Age\"].isna() & train[\"Previously_Insured\"].isna() & train[\"Driving_License\"].isna()]) # => 51 entities\n",
    "bad_train = train.loc[\n",
    "    train[\"Vintage\"].isna()\n",
    "    & train[\"Vehicle_Damage\"].isna()\n",
    "    & train[\"Vehicle_Age\"].isna()\n",
    "    & train[\"Previously_Insured\"].isna()\n",
    "    & train[\"Driving_License\"].isna()\n",
    "]\n",
    "print(\n",
    "    f\"Data sets with Vintage, Vehicle_Damage, Vehicle_Age, Previously_Insured and Driving_License missing: {len(bad_train)}\")\n",
    "# bad_train.groupby(\"Region_Code\").count().sort_values(\"id\", ascending=False)\n",
    "# bad_train.groupby(\"Policy_Sales_Channel\").count().sort_values(\"id\", ascending=False)\n",
    "# => !!! There are 51 entities that make up most of the missing values.\n",
    "# maybe we simply remove them\n"
   ]
  },
  {
   "cell_type": "markdown",
   "metadata": {},
   "source": [
    "Mithilfe einer Und-Verbindung wird geprüft, ob die missing Values alle von den selben Datensätzen stammen.\n",
    "Die Annahme wurde bestätigt. Der Test ergab 51 Treffer.\n",
    "Da nur wenige Informationen zu diesen Datensätzen verfügbar sind und eine Imputation daher nur eingeschränkt möglich ist, werden die Datensätze im Verlauf der Data Preparation entfernt. Hierdurch wird die Modellgüte nicht ausschlaggebend beeinträchtigt, da 51 Datensätze in der Gesamtheit der Daten (ca. 390.000 Datensätze) keinen signifikanten Einfluss haben."
   ]
  },
  {
   "cell_type": "markdown",
   "metadata": {},
   "source": [
    "Nachfolgend wurde überprüft, woher diese fehlerhaften Datensätze kommen. Unter verdacht standen die Vertriebskanäle `Policy_Sales_Channel` und `Region_Code` was auf fehlerhafte Eingaben in einer speziellen Filiale zurückzuführen wäre."
   ]
  },
  {
   "cell_type": "code",
   "execution_count": null,
   "metadata": {},
   "outputs": [],
   "source": [
    "# cast Region_Code to Category using only the options that appear in the data frame\n",
    "bad_train[\"Region_Code\"] = bad_train[\"Region_Code\"].astype(\n",
    "    pd.CategoricalDtype(bad_train[\"Region_Code\"].unique())\n",
    ")\n",
    "\n",
    "sns.catplot(\n",
    "    data=bad_train, x=\"Region_Code\", kind=\"count\", height=10, aspect=2 / 1\n",
    ")\n"
   ]
  },
  {
   "cell_type": "code",
   "execution_count": null,
   "metadata": {},
   "outputs": [],
   "source": [
    "bad_train_grpd = bad_train.groupby(\"Policy_Sales_Channel\").count()\n",
    "\n",
    "bad_train_grpd = bad_train_grpd.loc[bad_train_grpd[\"id\"] > 0]\n",
    "\n",
    "# reset index to re-include groupby counts (this resets all dtypes)\n",
    "bad_train_grpd = bad_train_grpd.reset_index()\n",
    "\n",
    "# reset PSC to categorial dtype\n",
    "bad_train_grpd[\"Policy_Sales_Channel\"] = bad_train_grpd[\"Policy_Sales_Channel\"].astype(\n",
    "    pd.CategoricalDtype(bad_train_grpd[\"Policy_Sales_Channel\"].unique())\n",
    ")\n",
    "\n",
    "sns.catplot(\n",
    "    data=bad_train_grpd,\n",
    "    x=\"Policy_Sales_Channel\",\n",
    "    y=\"id\",\n",
    "    height=10,\n",
    "    aspect=2 / 1,\n",
    "    kind=\"bar\",\n",
    ")\n"
   ]
  },
  {
   "cell_type": "markdown",
   "metadata": {},
   "source": [
    "Es gibt zwar Hinweise darauf, dass manche Regionen und Sales Channel fehleranfälliger sind als andere, der Verdacht, dass die fehlerhaften Datensätze auf eine Datenquelle zurückzuführen sind, konnte nicht bestätigt werden."
   ]
  },
  {
   "cell_type": "markdown",
   "metadata": {},
   "source": [
    "#### 2.7 Korrelation der Variablen <a class=\"anchor\" id=\"section_2_7\"></a>"
   ]
  },
  {
   "cell_type": "code",
   "execution_count": null,
   "metadata": {},
   "outputs": [],
   "source": [
    "# remove id from correlation matrix as it does not provide any usefull information\n",
    "def correlation_matrix(train):\n",
    "    for column in train:\n",
    "        if column == \"id\":\n",
    "            selected_columns = train.drop(\"id\", axis=\"columns\")\n",
    "            correlation = selected_columns.corr()\n",
    "            return correlation\n",
    "\n",
    "\n",
    "correlation_matrix(train)\n"
   ]
  },
  {
   "cell_type": "code",
   "execution_count": null,
   "metadata": {},
   "outputs": [],
   "source": [
    "def correlation_matrix(train):\n",
    "    for columns in train:\n",
    "        if columns == \"id\":\n",
    "            selected_columns = train.drop(\"id\", axis=\"columns\")\n",
    "            correlation = selected_columns.corr()\n",
    "            plt.figure(figsize=(12, 6))\n",
    "            sns.heatmap(\n",
    "                correlation, annot=True, cmap=\"flare\", linewidths=1, linecolor=\"black\"\n",
    "            )\n",
    "            plt.title(\"Korrelationsmatrix\", fontsize=18, weight=\"bold\")\n",
    "\n",
    "\n",
    "correlation_matrix(train)\n"
   ]
  },
  {
   "cell_type": "markdown",
   "metadata": {},
   "source": [
    "- Es fällt auf, dass `Previously_Insured` und `Driving_License` die höchste Korrelation, undzwar von 1, aufweisen. Das liegt daran, dass jeder KFZ-Besitzer eine KFZ-Versicherung haben muss sofern das KFZ angemeldet ist.\n",
    "- Die geringste Korrelation weisen die Variablen (`Driving_License` und `Vintage`), sowie (`Previously_Insured` und `Vintage`) auf, mit einer Korrelation von 0,0024.\n",
    "- Hohe negative Korrelation zwischen `Vehicle_Damage` und `Previously_Insured`\n",
    "- Korrelation von 0,35 zwischen `Vehicle_Damage` und `Response`. Wenn ich in der Vergangenheit einen Schadensfall hatte, bin ich eher dazu geneigt eine Versicherung abzuschließen.\n",
    "- Alle anderen Variablen sind zudem nahezu unkorreliert."
   ]
  },
  {
   "cell_type": "code",
   "execution_count": null,
   "metadata": {},
   "outputs": [],
   "source": [
    "print(f'In wie vielen Fällen ist Driving_License != Previously_Insured?\\n -> {len(train.loc[train[\"Driving_License\"] != train[\"Previously_Insured\"]])}')\n",
    "# Observation was confirmed!\n",
    "# Columns Driving_License and Previously_Insured are equals!\n"
   ]
  },
  {
   "cell_type": "markdown",
   "metadata": {},
   "source": [
    "Beobachtung:\n",
    "- Die Spalte `Driving_License` und `Previously_Insured` haben exakt die gleichen Daten"
   ]
  },
  {
   "cell_type": "markdown",
   "metadata": {},
   "source": [
    "#### 2.8 Interpretation der Variablen <a class=\"anchor\" id=\"section_2_8\"></a>"
   ]
  },
  {
   "cell_type": "markdown",
   "metadata": {},
   "source": [
    "##### 2.8.1 Interpretation der Variable Gender <a class=\"anchor\" id=\"section_2_8_1\"></a>"
   ]
  },
  {
   "cell_type": "markdown",
   "metadata": {},
   "source": [
    "Die Variable Gender beschreibt das Geschlecht der Versicherungsnehmer."
   ]
  },
  {
   "cell_type": "code",
   "execution_count": null,
   "metadata": {},
   "outputs": [],
   "source": [
    "fig, (ax1, ax2) = plt.subplots(1, 2, figsize=(10, 10))\n",
    "colors = sns.color_palette('pastel')[0:2]\n",
    "l = [\"True\", \"False\"]\n",
    "\n",
    "male = train.loc[train[\"Gender\"] == \"Male\"]\n",
    "\n",
    "# MALE PIE CHART\n",
    "d_m = [len(male.loc[male[\"Response\"] == True]),\n",
    "       len(male.loc[male[\"Response\"] == False])]\n",
    "ax1.pie(d_m, labels=l, colors=colors, autopct='%.0f%%')\n",
    "ax1.set_title(\"Male Responses\")\n",
    "\n",
    "# FEMALE PIE CHART\n",
    "female = train.loc[train[\"Gender\"] == \"Female\"]\n",
    "d_f = [len(female.loc[female[\"Response\"] == True]),\n",
    "       len(female.loc[female[\"Response\"] == False])]\n",
    "ax2.pie(d_f, labels=l, colors=colors, autopct='%.0f%%')\n",
    "ax2.set_title(\"Female Responses\")"
   ]
  },
  {
   "cell_type": "markdown",
   "metadata": {},
   "source": [
    "Beobachtungen:\n",
    "- Keine signifikanten unterschiede im Interesse an KFZ-Versicherungen bei Männern und Frauen"
   ]
  },
  {
   "cell_type": "markdown",
   "metadata": {},
   "source": [
    "##### 2.8.2 Interpretation der Variable Age <a class=\"anchor\" id=\"section_2_8_2\"></a>"
   ]
  },
  {
   "cell_type": "markdown",
   "metadata": {},
   "source": [
    "Die Variable Age beschreibt das Alter der Versicherungsnehmer.\n",
    "\n",
    "Erwartungen:\n",
    "- Plotten der Altersverteilung gibt Rückschlüsse zur Datenqualität bzw. zur Datenherkunft\n",
    "    - Es ist eine pyramiedenförmige Altersverteilung zu erwarten, da der Datensatz aus Indien stammt\n",
    "- Ältere und damit erfahrenere Kunden sind eher an einer Versicherung interessiert"
   ]
  },
  {
   "cell_type": "code",
   "execution_count": null,
   "metadata": {},
   "outputs": [],
   "source": [
    "sns.set(rc={\"figure.figsize\": (25, 10)})\n",
    "histplot_age = sns.histplot(train, x=\"Age\", binwidth=5)\n",
    "histplot_age.set_title(\"Betrachtung aller Daten\", fontsize=30, weight='bold')\n"
   ]
  },
  {
   "cell_type": "markdown",
   "metadata": {},
   "source": [
    "Beobachtungen:\n",
    "- Es gibt unrealisitsch hohe Alterswerte\n",
    "- Aus der Fallbeschreibung konnte entnommen werden, dass es sich um einen Datensatz aus Indien handelt. Es wurde von der Währung Rs (Indische Rupie) gesprochen. Die Altersverteilung kommt der pyramidenförmigen demografischen Verteilung von Indien deutlich näher als der Urnenform von Deutschland. Die geplottete Altersverteilung bestätigt zusätzlich die Datenherkunft und Datengüte, da die erwartete Verteilung, bis auf einen Sattelpunkt bei 30-40, ausgegeben wurde.\n",
    "- Es gibt keine Werte unter 20"
   ]
  },
  {
   "cell_type": "code",
   "execution_count": null,
   "metadata": {},
   "outputs": [],
   "source": [
    "sns.set(rc={\"figure.figsize\": (25, 10)})\n",
    "boxplot = sns.boxplot(data=train, y=\"Gender\", x=\"Age\", orient=\"horizontal\")\n",
    "boxplot.set_xlabel(\"Age\", fontsize=20, weight='bold')\n",
    "boxplot.set_ylabel(\"Gender\", fontsize=20, weight='bold')\n",
    "boxplot.set_title(\"Boxplot der Variable Age in Zusammenhang mit Gender.\" +\n",
    "                  \"\\n\", fontsize=30, weight='bold')\n",
    "plt.tick_params(axis=\"both\", labelsize=18)\n"
   ]
  },
  {
   "cell_type": "code",
   "execution_count": null,
   "metadata": {},
   "outputs": [],
   "source": [
    "print(f'Durchschnittsalter von Männern: {train.loc[train[\"Gender\"] == \"Male\"].mean()[\"Age\"]}')\n",
    "print(f'Durchschnittsalter von Frauen: {train.loc[train[\"Gender\"] == \"Female\"].mean()[\"Age\"]}')"
   ]
  },
  {
   "cell_type": "markdown",
   "metadata": {},
   "source": [
    "Beobachtungen:\n",
    "- Männer sind im Schnitt älter als Frauen"
   ]
  },
  {
   "cell_type": "markdown",
   "metadata": {},
   "source": [
    "Alle Datensätze bei denen das Alter über 100 Jahren liegt, sind nicht realitätsnah und werden genauer betrachtet:"
   ]
  },
  {
   "cell_type": "code",
   "execution_count": null,
   "metadata": {},
   "outputs": [],
   "source": [
    "train.loc[(train.Age >= 100)]\n"
   ]
  },
  {
   "cell_type": "markdown",
   "metadata": {},
   "source": [
    "Die Daten mit unrealistisch hohen Alterswerten sind möglicherweise alte Datensätze, die nicht gepflegt bzw. im Fall der Vertragsauflösung nicht gelöscht wurden."
   ]
  },
  {
   "cell_type": "markdown",
   "metadata": {},
   "source": [
    "##### 2.8.3 Interpretation der Variable Driving_License <a class=\"anchor\" id=\"section_2_8_3\"></a>\n"
   ]
  },
  {
   "cell_type": "markdown",
   "metadata": {},
   "source": [
    "Die Variable `Driving_License` beschreibt ob ein Versicherungsnehmer einen Führerschein besitzt.\n",
    "\n",
    "Erwartungen:\n",
    "- Kunden, die keinen Führerschein besitzen, haben keine Verwendung für eine KFZ-Versicherung\n",
    "    - Außer sie planen kurzfristig den Erwerb eines Führerscheins\n",
    "- Führerscheinbesitzer haben möglicherweise schon eine KFZ-Versicherung"
   ]
  },
  {
   "cell_type": "code",
   "execution_count": null,
   "metadata": {},
   "outputs": [],
   "source": [
    "fig, (ax1, ax2) = plt.subplots(1, 2, figsize=(10, 10))\n",
    "colors = sns.color_palette('pastel')[0:4]\n",
    "\n",
    "dl_true = train.loc[train[\"Driving_License\"] == True]\n",
    "dl_false=train.loc[train[\"Driving_License\"] == False]\n",
    "\n",
    "# dl_true PIE CHART\n",
    "d_true = [len(dl_true.loc[dl_true[\"Response\"] == True]),\n",
    "       len(dl_true.loc[dl_true[\"Response\"] == False])]\n",
    "l_true = [\"Response: True\", \"Response: False\"]\n",
    "ax1.pie(d_true, labels=l_true, colors=colors, autopct='%.0f%%')\n",
    "ax1.set_title(\"Driving License Owner\")\n",
    "\n",
    "# dl_false PIE CHART\n",
    "d_false = [len(dl_false.loc[dl_false[\"Response\"] == True]),\n",
    "       len(dl_false.loc[dl_false[\"Response\"] == False])]\n",
    "l_false = l_true\n",
    "\n",
    "ax2.pie(d_false, labels=l_false, colors=colors, autopct='%.0f%%')\n",
    "ax2.set_title(\"Not Driving License Owner\")\n"
   ]
  },
  {
   "cell_type": "markdown",
   "metadata": {},
   "source": [
    "Beobachtungen:\n",
    "- Nahezu kein Führerscheinbesitzer ist an einer KFZ-Versicherung interessiert. Möglicherweise weil Führerscheinbesitzer auch ein Auto und deswegen auch eine KFZ-Versicherung besitzen\n",
    "- Fast 1/4 aller Führerscheinlosen haben Interesse an einer KFZ-Versicherung bekundet"
   ]
  },
  {
   "cell_type": "markdown",
   "metadata": {},
   "source": [
    "##### 2.8.4 Interpretation der Variable Region_Code <a class=\"anchor\" id=\"section_2_8_4\"></a>\n"
   ]
  },
  {
   "cell_type": "markdown",
   "metadata": {},
   "source": [
    "Die Variable `Region_Code` beschreibt den Wohnort der Kunden. Es handelt sich um eine kategoriale Variable mit 53 Ausprägungen. Sie kann analog zur Postleitzahl verstanden werden.\n",
    "\n",
    "Erwartungen:\n",
    "- In einer guten Wohngegend können sich die Versicherungsnehmer eher eine KFZ-Versicherung leisten oder besitzen ein teureres Auto, für das sich eine Versicherung lohnt\n",
    "- Analog dazu verzichten Kunden aus ärmeren Regionen aus finanziellen Gründen eher auf eine KFZ-Versicherung\n",
    "- Bestimmte Verkaufskanäle konzentrieren sich auf bestimmte Regionen, andere agieren flächendeckend"
   ]
  },
  {
   "cell_type": "code",
   "execution_count": null,
   "metadata": {},
   "outputs": [],
   "source": [
    "len(train[\"Region_Code\"].unique())"
   ]
  },
  {
   "cell_type": "code",
   "execution_count": null,
   "metadata": {},
   "outputs": [],
   "source": [
    "p_data = train.groupby(\"Region_Code\").count()\n",
    "\n",
    "p_data = p_data.loc[p_data[\"id\"] > 0]\n",
    "\n",
    "# reset index to re-include groupby counts (this resets all dtypes)\n",
    "p_data = p_data.reset_index()\n",
    "\n",
    "# reset PSC to categorial dtype\n",
    "p_data[\"Region_Code\"] = p_data[\"Region_Code\"].astype(\n",
    "    pd.CategoricalDtype(p_data[\"Region_Code\"].unique())\n",
    ")\n",
    "\n",
    "plot = sns.catplot(\n",
    "    data=p_data,\n",
    "    x=\"Region_Code\",\n",
    "    y=\"id\",\n",
    "    height=10,\n",
    "    aspect=2 / 1,\n",
    "    kind=\"bar\"\n",
    ")\n"
   ]
  },
  {
   "cell_type": "code",
   "execution_count": null,
   "metadata": {},
   "outputs": [],
   "source": [
    "\n",
    "plot = sns.catplot(\n",
    "    data=train,\n",
    "    x=\"Region_Code\",\n",
    "    y=\"Annual_Premium\",\n",
    "    height=10,\n",
    "    aspect=2 / 1,\n",
    ")"
   ]
  },
  {
   "cell_type": "markdown",
   "metadata": {},
   "source": [
    "##### 2.8.5 Interpretation der Variable Previously_Insured <a class=\"anchor\" id=\"section_2_8_5\"></a>"
   ]
  },
  {
   "cell_type": "code",
   "execution_count": null,
   "metadata": {},
   "outputs": [],
   "source": [
    "fig, (ax1, ax2) = plt.subplots(1, 2, figsize=(20, 10))\n",
    "colors = sns.color_palette('pastel')[0:2]\n",
    "\n",
    "d_1 = train.loc[train[\"Previously_Insured\"] == True]\n",
    "d_2 = train.loc[train[\"Previously_Insured\"] == False]\n",
    "\n",
    "l = [\"Response: True\", \"Response: False\"]\n",
    "\n",
    "p_1 = [len(d_1.loc[d_1[\"Response\"] == True]),\n",
    "       len(d_1.loc[d_1[\"Response\"] == False])]\n",
    "ax1.pie(p_1, labels=l, colors=colors, autopct='%.0f%%')\n",
    "ax1.set_title(\"Previously insured\")\n",
    "\n",
    "p_2 = [len(d_2.loc[d_2[\"Response\"] == True]),\n",
    "       len(d_2.loc[d_2[\"Response\"] == False])]\n",
    "ax2.pie(p_2, labels=l, colors=colors, autopct='%.0f%%')\n",
    "ax2.set_title(\"Not previously insured\")\n"
   ]
  },
  {
   "cell_type": "markdown",
   "metadata": {},
   "source": [
    "##### 2.8.6 Interpretation der Variable Vehicle_Age <a class=\"anchor\" id=\"section_2_8_6\"></a>"
   ]
  },
  {
   "cell_type": "markdown",
   "metadata": {},
   "source": [
    "Die Variable `Vehicle_Age` beschreibt das Alter des Fahrzeugs. Es ist eine kategoriale Variable mit den drei Ausprägungen `< 1 Year`, `1-2 Year` und `> 2 Years`.\n",
    "\n",
    "Erwartungen:\n",
    "- Besitzer neuer KFZs wollen ihre Neuanschaffung eher versichern"
   ]
  },
  {
   "cell_type": "code",
   "execution_count": null,
   "metadata": {},
   "outputs": [],
   "source": [
    "fig, (ax1, ax2, ax3) = plt.subplots(1, 3, figsize=(20, 10))\n",
    "colors = sns.color_palette('pastel')[0:2]\n",
    "\n",
    "dl_1 = train.loc[train[\"Vehicle_Age\"] == \"< 1 Year\"]\n",
    "dl_2 = train.loc[train[\"Vehicle_Age\"] == \"1-2 Year\"]\n",
    "dl_3 = train.loc[train[\"Vehicle_Age\"] == \"> 2 Years\"]\n",
    "\n",
    "l = [\"Response: True\", \"Response: False\"]\n",
    "# dl_1 PIE CHART\n",
    "d_1 = [len(dl_1.loc[dl_1[\"Response\"] == True]),\n",
    "       len(dl_1.loc[dl_1[\"Response\"] == False])]\n",
    "ax1.pie(d_1, labels=l, colors=colors, autopct='%.0f%%')\n",
    "ax1.set_title(\"Vehicle_Age < 1 Year\")\n",
    "\n",
    "# dl_2 PIE CHART\n",
    "d_2 = [len(dl_2.loc[dl_2[\"Response\"] == True]),\n",
    "       len(dl_2.loc[dl_2[\"Response\"] == False])]\n",
    "ax2.pie(d_2, labels=l, colors=colors, autopct='%.0f%%')\n",
    "ax2.set_title(\"Vehicle_Age 1-2 Year\")\n",
    "\n",
    "# dl_3 PIE CHART\n",
    "d_3 = [len(dl_3.loc[dl_3[\"Response\"] == True]),\n",
    "       len(dl_3.loc[dl_3[\"Response\"] == False])]\n",
    "ax3.pie(d_3, labels=l, colors=colors, autopct='%.0f%%')\n",
    "ax3.set_title(\"Vehicle_Age > 2 Years\")\n"
   ]
  },
  {
   "cell_type": "markdown",
   "metadata": {},
   "source": [
    "Beobachtungen:\n",
    "- Das Gegenteil der Erwarteten Verteilung ist der Fall: Je älter ein Auto ist, desto eher ist der Besitzer an einer Versicherung interessiert"
   ]
  },
  {
   "cell_type": "markdown",
   "metadata": {},
   "source": [
    "##### 2.8.7 Interpretation der Variable Vehicle_Damage <a class=\"anchor\" id=\"section_2_8_7\"></a>"
   ]
  },
  {
   "cell_type": "markdown",
   "metadata": {},
   "source": [
    "Die Variable `Vehicle_Damage` beschreibt, ob es an einem Fahrzeug schonmal einen Schadensfall gab.\n",
    "\n",
    "Erwartung:\n",
    "- Jemand, der bereits einen Schaden hatte, hat aus der Erfahrung gelernt, dass es Vorteilhaft sein kann eine Versicherung zu haben"
   ]
  },
  {
   "cell_type": "code",
   "execution_count": null,
   "metadata": {},
   "outputs": [],
   "source": [
    "fig, (ax1, ax2) = plt.subplots(1, 2, figsize=(20, 10))\n",
    "colors = sns.color_palette('pastel')[0:2]\n",
    "\n",
    "dl_1 = train.loc[train[\"Vehicle_Damage\"] ==True]\n",
    "dl_2 = train.loc[train[\"Vehicle_Damage\"] == False]\n",
    "\n",
    "l = [\"Response: True\", \"Response: False\"]\n",
    "# dl_1 PIE CHART\n",
    "d_1 = [len(dl_1.loc[dl_1[\"Response\"] == True]),\n",
    "       len(dl_1.loc[dl_1[\"Response\"] == False])]\n",
    "ax1.pie(d_1, labels=l, colors=colors, autopct='%.0f%%')\n",
    "ax1.set_title(\"Vehicle_Damage: True\")\n",
    "\n",
    "# dl_2 PIE CHART\n",
    "d_2 = [len(dl_2.loc[dl_2[\"Response\"] == True]),\n",
    "       len(dl_2.loc[dl_2[\"Response\"] == False])]\n",
    "ax2.pie(d_2, labels=l, colors=colors, autopct='%.0f%%')\n",
    "ax2.set_title(\"Vehicle_Damage: False\")\n"
   ]
  },
  {
   "cell_type": "markdown",
   "metadata": {},
   "source": [
    "Beobachtung:\n",
    "- Genau wie erwartet, gibt es einen deutlichen Zusammenhang zwischen bereits erlittenem Schadensfall und dem Interesse an einer KFZ-Versicherung"
   ]
  },
  {
   "cell_type": "markdown",
   "metadata": {},
   "source": [
    "##### 2.8.8 Interpretation der Variable Annual_Premium <a class=\"anchor\" id=\"section_2_8_8\"></a>"
   ]
  },
  {
   "cell_type": "markdown",
   "metadata": {},
   "source": [
    "Die Variable `Annual_Premium` beschreibt den jährlichen Versicherungsbeitrag (der Krankenversicherung) des Kunden.\n",
    "\n",
    "Erwartungen:\n",
    "- Ein Kunde, der mit seiner Krankenversicherung zufrieden ist, etwa weil der Beitrag niedrig ist, ist eher verleitet, bei der selben Versicherung ein weiteres Produkt zu kaufen\n",
    "- Das `Annual_Premium` ist abhängig vom Alter des Versicherten."
   ]
  },
  {
   "cell_type": "code",
   "execution_count": null,
   "metadata": {},
   "outputs": [],
   "source": [
    "train[\"Annual_Premium\"].describe()\n"
   ]
  },
  {
   "cell_type": "code",
   "execution_count": null,
   "metadata": {},
   "outputs": [],
   "source": [
    "# len(train.loc[train[\"Annual_Premium\"].isna()])\n",
    "train[\"Annual_Premium\"].isna().sum()\n"
   ]
  },
  {
   "cell_type": "markdown",
   "metadata": {},
   "source": [
    "- Der durchschnittliche `Annual_Premium` liegt bei rund 30.500\n",
    "- Das Minimun ist negativ, was auf (mindestens) einen fehlerhaften Wert hindeutet\n",
    "- Es gibt 100 missing Values\n",
    "- Das Maximum liegt gbei ca. 540.000 (dem 17 fachen des Durchschnitts). Entweder handelt es sich um ein teures Luxusauto, oder um einen Fehler"
   ]
  },
  {
   "cell_type": "code",
   "execution_count": null,
   "metadata": {},
   "outputs": [],
   "source": [
    "sns.set(rc={\"figure.figsize\": (20, 10)})\n",
    "\n",
    "histplot_annual_premium = sns.histplot(\n",
    "    train, x=\"Annual_Premium\", binwidth=2500)\n",
    "histplot_annual_premium.set_title(\n",
    "    \"Übersicht über alle Werte\", fontsize=30, weight='bold')\n"
   ]
  },
  {
   "cell_type": "markdown",
   "metadata": {},
   "source": [
    "Beobachtungen:\n",
    "- Es gibt zwei Arten von Ausreißern. es gibt eine deutliche Konzentration (~65.000) bei einem Wert, außerhalb der eigentlichen Verteilung\n",
    "- Es gibt wenige besonders hohe Werte (>100.000)\n",
    "- Die Skala für `Annual_Premium` beginnt nicht bei 0, also gibt es invalide negative Werte"
   ]
  },
  {
   "cell_type": "code",
   "execution_count": null,
   "metadata": {},
   "outputs": [],
   "source": [
    "# count values < 3.000\n",
    "print(\n",
    "    f\"Anzahl konzentrierter Werte bei rund 2.500: {len(train.loc[(train['Annual_Premium'] > 0) & (train['Annual_Premium'] < 3000)])}\")\n",
    "\n",
    "# count values > 100.000 -> 773\n",
    "print(\n",
    "    f\"Anzahl besonders hoher Werte für Annual_Premium: {len(train.loc[train['Annual_Premium'] > 100000])}\")\n"
   ]
  },
  {
   "cell_type": "markdown",
   "metadata": {},
   "source": [
    "Theorie: Das `Annual_Premium` ist abhängig vom Alter des Versicherten."
   ]
  },
  {
   "cell_type": "code",
   "execution_count": null,
   "metadata": {},
   "outputs": [],
   "source": [
    "sns.set(rc={\"figure.figsize\": (20, 10)})\n",
    "x = sns.relplot(data=train, x=\"Age\", y=\"Annual_Premium\",\n",
    "                col=\"Response\", hue=\"Vehicle_Age\")\n"
   ]
  },
  {
   "cell_type": "markdown",
   "metadata": {},
   "source": [
    "Beobachtung:\n",
    "- Die Theorie, dass ältere Versicherungsnehmer höhere Beiträge zahlen scheint nicht zu stimmen. Es hätte ein Abwärtstrend zu sehen sein müssen.\n",
    "- Vor allem in der Gruppe der unter einem Jahr alten Autos kann man sehen, dass die Besitzer fast ausschließlich Versicherungen abgeschlossen haben, wenn sie bereits einen günstigen KV-Tarif hatten."
   ]
  },
  {
   "cell_type": "code",
   "execution_count": null,
   "metadata": {},
   "outputs": [],
   "source": [
    "sns.set(rc={\"figure.figsize\": (20, 10)})\n",
    "\n",
    "plot_data = train.loc[(train[\"Annual_Premium\"] > 0) &\n",
    "                      (train[\"Annual_Premium\"] < 70000)]\n",
    "\n",
    "histplot_annual_premium = sns.histplot(\n",
    "    plot_data, x=\"Annual_Premium\", binwidth=1000)\n",
    "histplot_annual_premium.set_title(\n",
    "    \"Betrachtung des validen/realistischen Datenbereichs\", fontsize=30, weight='bold')\n"
   ]
  },
  {
   "cell_type": "markdown",
   "metadata": {},
   "source": [
    "Beobachtungen:\n",
    "- rechtsschiefe Verteilung um 30.000\n",
    "- Ausreißer bei rund 2.000. Das ist möglicherweise ein besonderer Versicherungstarif, z.B. ein pauschaler Tarif."
   ]
  },
  {
   "cell_type": "code",
   "execution_count": null,
   "metadata": {},
   "outputs": [],
   "source": [
    "sns.set(rc={\"figure.figsize\": (30, 10)})\n",
    "boxplot = sns.boxplot(data=train, y=\"Gender\",\n",
    "                      x=\"Annual_Premium\", orient=\"horizontal\")\n",
    "boxplot.set_xlabel(\"Annual_Premium\", fontsize=20, weight='bold')\n",
    "boxplot.set_ylabel(\"Gender\", fontsize=20, weight='bold')\n",
    "\n",
    "boxplot.set_xlim(0, 550000)\n",
    "boxplot.set_xticks(range(0, 550000, 25000))\n",
    "\n",
    "boxplot.set_title(\"Boxplot der Variable Annual_Premium in Zusammenhang mit Gender.\" +\n",
    "                  \"\\n\", fontsize=30, weight='bold')\n",
    "plt.tick_params(axis=\"both\", labelsize=18)\n"
   ]
  },
  {
   "cell_type": "markdown",
   "metadata": {},
   "source": [
    "##### 2.8.9 Interpretation der Variable Policy_Sales_Channel <a class=\"anchor\" id=\"section_2_8_9\"></a>"
   ]
  },
  {
   "cell_type": "markdown",
   "metadata": {},
   "source": [
    "Die Variable `Policy_Sales_Channel` beschreibt den Verkaufskanal, über den die bestehende Krankenversicherung abgeschlossen wurde.\n",
    "\n",
    "Erwartungen:\n",
    "- Bei bestimmten Verkaufskanälen gibt es ein höheres Interesse an KFZ-Versicherungen\n"
   ]
  },
  {
   "cell_type": "code",
   "execution_count": null,
   "metadata": {},
   "outputs": [],
   "source": [
    "p = sns.catplot(x=\"Policy_Sales_Channel\",y=\"Response\", data=train, ci=None, aspect=4, kind=\"bar\")"
   ]
  },
  {
   "cell_type": "markdown",
   "metadata": {},
   "source": [
    "Beobachtungen:\n",
    "- Es gibt deutliche Unterschiede zwischen den Vertriebskanälen\n",
    "    - Allerdings haben Vertriebskanäle mit wenigen Kunden extremere Werte, da die Stichprobengröße kleiner ist\n",
    "\n",
    "Es müssen weitere Untersuchungen von prozentualer positiver Rückmeldung und Anzahl der Kunden für jeden Vertriebskanal vorgenommen werden.\n",
    "\n",
    "Nachfolgend werden die Daten pro Vertriebskanal zusammengefasst, um deren Positivrückmeldungsrate im Vergleich zur Anzahl der betreuten Kunden einordnen zu können."
   ]
  },
  {
   "cell_type": "code",
   "execution_count": null,
   "metadata": {},
   "outputs": [],
   "source": [
    "# get percentage of True response\n",
    "percent =  train.groupby(\"Policy_Sales_Channel\").sum() / train.groupby(\"Policy_Sales_Channel\").count()\n",
    "percent = percent.reset_index()\n",
    "percent[\"Policy_Sales_Channel\"] = percent[\"Policy_Sales_Channel\"].astype(pd.CategoricalDtype(percent[\"Policy_Sales_Channel\"].unique()))\n",
    "\n",
    "# get count of all response\n",
    "count = train.groupby(\"Policy_Sales_Channel\").count()\n",
    "count = count.reset_index()\n",
    "count[\"Policy_Sales_Channel\"] = count[\"Policy_Sales_Channel\"].astype(pd.CategoricalDtype(count[\"Policy_Sales_Channel\"].unique()))\n",
    "\n",
    "# join results\n",
    "combined = pd.merge(percent, count, how=\"inner\", on=[\"Policy_Sales_Channel\",\"Policy_Sales_Channel\"], suffixes=[\"_percent\", \"_count\"])\n",
    "combined = combined.sort_values(\"Response_percent\", ascending=False)\n",
    "\n",
    "# trim useless columns\n",
    "combined = combined[[\"Policy_Sales_Channel\", \"Response_percent\", \"Response_count\"]]\n",
    "\n",
    "no_positive_responses = combined.loc[combined[\"Response_percent\"] == 0]\n",
    "combined\n",
    "# remove sales channels with no customers\n",
    "combined = combined.loc[combined[\"Response_count\"] > 0]\n",
    "combined\n",
    "p = sns.regplot(x=\"Response_count\", y=\"Response_percent\" ,data=combined)\n",
    "p.set_xscale(\"log\")\n",
    "p.set_xlabel(\"Anzahl der Kunden (logarithmische Skala zur besseren Darstellung\")\n",
    "p.set_ylabel(\"Prozentualer Anteil der True Responses\")\n",
    "p.set_title(\"Erfolgsquote und Anzahl der Kunden pro Vertriebskanal (1 Punkt je Kanal)\", size=20)\n"
   ]
  },
  {
   "cell_type": "code",
   "execution_count": null,
   "metadata": {},
   "outputs": [],
   "source": [
    "combined\n"
   ]
  },
  {
   "cell_type": "code",
   "execution_count": null,
   "metadata": {},
   "outputs": [],
   "source": [
    "print(f\"Anzahl der Vertriebskanäle ohne positive Response: {len(no_positive_responses)}\")\n"
   ]
  },
  {
   "cell_type": "markdown",
   "metadata": {},
   "source": [
    "Beobachtungen:\n",
    "- Die Vertriebskanäle sind unabhängig von ihrer Größe mehr oder weniger erfolgreich\n",
    "- Es gibt große Abweichungen vom Mittelwert unabhängig von der Anzahl der Kunden\n",
    "- Wie erwartet haben die Vertriebskanäle mit 100% Positivrückmeldungsquote nur einen einzigen Kunden\n",
    "    - Dennoch gibt es auch Vertriebskanäle mit über 1000 Kunden und rund 33% Positivquote\n",
    "- Die meisten Vertriebskanäle haben weniger als 1000 Kunden\n",
    "- Es gibt 34 Vertriebskanäle ohne positive Rückmeldung"
   ]
  },
  {
   "cell_type": "markdown",
   "metadata": {},
   "source": [
    "##### 2.8.10 Interpretation der Variable Vintage <a class=\"anchor\" id=\"section_2_8_10\"></a>"
   ]
  },
  {
   "cell_type": "markdown",
   "metadata": {},
   "source": [
    "Die Variable `Vintage` beschreibt die Dauer des Versicherungsverhältnisses im letzten Jahr.\n",
    "\n",
    "Erwartung:\n",
    "- Besondere Salesevents oder Aktionen mit limitierter Laufzeit können als Peak erkannt werden"
   ]
  },
  {
   "cell_type": "code",
   "execution_count": null,
   "metadata": {},
   "outputs": [],
   "source": [
    "plot = sns.histplot(\n",
    "    data=train,\n",
    "    x=\"Vintage\",\n",
    "    binwidth=7 # 7 days = 1 week\n",
    ")"
   ]
  },
  {
   "cell_type": "code",
   "execution_count": null,
   "metadata": {},
   "outputs": [],
   "source": [
    "\n",
    "# Look at cheap contracts\n",
    "d = train.loc[(train[\"Annual_Premium\"] < 5000) & (train[\"Annual_Premium\"] > 0)]\n",
    "# d = d.loc[d[\"Response\"] == True]\n",
    "sns.scatterplot(data=d, x=\"Vintage\", y=\"Annual_Premium\", hue=\"Response\")"
   ]
  },
  {
   "cell_type": "markdown",
   "metadata": {},
   "source": [
    "Beobachtungen:\n",
    "- Beinahe Gleichverteilung von `Vintage`\n",
    "    - Es scheinen keine Verkaufsaktionen stattgefunden zu haben, oder sie sind ohne Erfolg geblieben\n",
    "- Es gibt keine besonderen Zeiträume, in denen der günstige Pauschaltarif abgeschlossen wird\n",
    "- Es gibt keine besonderen Zeiträume, in denen die  `Response` besonders gut ist"
   ]
  },
  {
   "cell_type": "markdown",
   "metadata": {},
   "source": [
    "##### 2.8.11 Interpretation der Variable Response <a class=\"anchor\" id=\"section_2_8_11\"></a>"
   ]
  },
  {
   "cell_type": "markdown",
   "metadata": {},
   "source": [
    "Die Variable `Response` beschreibt das Interesse der Kunden an einer KFZ-Versicherung. Es ist die Zielvariable, die mithilfe eines Modells vorhergesagt werdern soll."
   ]
  },
  {
   "cell_type": "code",
   "execution_count": null,
   "metadata": {},
   "outputs": [],
   "source": [
    "plot = sns.histplot(\n",
    "    data=train,\n",
    "    x=\"Age\",\n",
    "    binwidth=5,\n",
    "    hue=\"Response\"\n",
    ")"
   ]
  },
  {
   "cell_type": "markdown",
   "metadata": {},
   "source": [
    "Beobachtung:\n",
    "- Kunden im mittleren Alter (zwischen 30 und 60) haben ein vergleichsweise höheres Interesse an einer Versicherung\n",
    "- Ältere und jüngere Kunden haben ein überproportional geringes Interesse"
   ]
  },
  {
   "cell_type": "code",
   "execution_count": null,
   "metadata": {},
   "outputs": [],
   "source": [
    "fig, (ax1, ax2, ax3) = plt.subplots(1, 3, figsize=(30, 10))\n",
    "colors = sns.color_palette('pastel')[0:2]\n",
    "\n",
    "d_1 = train.loc[train[\"Age\"] < 30]\n",
    "d_2 = train.loc[(train[\"Age\"] >= 30) & (train[\"Age\"] < 60)]\n",
    "d_3 = train.loc[(train[\"Age\"] >= 60) & (train[\"Age\"] < 100)] # remove false data\n",
    "\n",
    "l = [\"Response: True\", \"Response: False\"]\n",
    "\n",
    "p_1 = [len(d_1.loc[d_1[\"Response\"] == True]),\n",
    "       len(d_1.loc[d_1[\"Response\"] == False])]\n",
    "ax1.pie(p_1, labels=l, colors=colors, autopct='%.0f%%')\n",
    "ax1.set_title(\"Age < 30\")\n",
    "\n",
    "p_2 = [len(d_2.loc[d_2[\"Response\"] == True]),\n",
    "       len(d_2.loc[d_2[\"Response\"] == False])]\n",
    "ax2.pie(p_2, labels=l, colors=colors, autopct='%.0f%%')\n",
    "ax2.set_title(\"30 <= Age < 60\")\n",
    "\n",
    "p_3 = [len(d_3.loc[d_3[\"Response\"] == True]),\n",
    "       len(d_3.loc[d_3[\"Response\"] == False])]\n",
    "ax3.pie(p_3, labels=l, colors=colors, autopct='%.0f%%')\n",
    "ax3.set_title(\"Age >= 60\")"
   ]
  },
  {
   "cell_type": "markdown",
   "metadata": {},
   "source": [
    "Beobachtung:\n",
    "- Besonders in der Altersgruppe 30-60 ist ein besonders großes Interesse an einer KFZ-Versicherung zu erkennen"
   ]
  },
  {
   "cell_type": "markdown",
   "metadata": {},
   "source": [
    "### 3. Data Preparation <a class=\"anchor\" id=\"chapter3\"></a>"
   ]
  },
  {
   "cell_type": "markdown",
   "metadata": {},
   "source": [
    "Die Erkenntnisse, die im Kapitel **Data Understanding** gewonnen wurden, werden nachfolgend angewandt, um invalide Daten zu entfernen und die Datenqualität zu erhöhen"
   ]
  },
  {
   "cell_type": "markdown",
   "metadata": {},
   "source": [
    "#### 3.1 Ausreißer behandeln <a class=\"anchor\" id=\"section_3_1\"></a>"
   ]
  },
  {
   "cell_type": "markdown",
   "metadata": {},
   "source": [
    "##### 3.1.1 Ausreißer innerhalb der Variable Age <a class=\"anchor\" id=\"section_3_1_1\"></a>"
   ]
  },
  {
   "cell_type": "markdown",
   "metadata": {},
   "source": [
    "- Ab dem Alter >=100 Jahre werden alle Werte in Missing Values umgewandelt, da dieses Alter nicht realistisch ist.\n",
    "- Diese Grenze wurde als großzügige Einschätzung den zu erwartenden Lebensalters festgelegt.\n",
    "- Von dieser Änderung sind 100 Datensätze betroffen."
   ]
  },
  {
   "cell_type": "code",
   "execution_count": null,
   "metadata": {},
   "outputs": [],
   "source": [
    "# len(train.loc[train[\"Age\"]> 100])\n",
    "train.loc[train[\"Age\"] > 100, \"Age\"] = np.NaN\n",
    "train.loc[train[\"Age\"] < 18, \"Age\"] = np.NaN\n"
   ]
  },
  {
   "cell_type": "markdown",
   "metadata": {},
   "source": [
    "#### 3.1.2 Ausreißer innerhalb der Variable Annual_Premium <a class=\"anchor\" id=\"section_3_1_2\"></a>"
   ]
  },
  {
   "cell_type": "code",
   "execution_count": null,
   "metadata": {},
   "outputs": [],
   "source": [
    "train[\"Annual_Premium\"].describe()\n"
   ]
  },
  {
   "cell_type": "markdown",
   "metadata": {},
   "source": [
    "Negative Werte für `Annual_Premium` sind nicht valide. Es würde bedeuten, dass die Versicherungsgesellschaft den Kunden bezahlt."
   ]
  },
  {
   "cell_type": "code",
   "execution_count": null,
   "metadata": {},
   "outputs": [],
   "source": [
    "# remove negative values\n",
    "train.loc[train[\"Annual_Premium\"] < 0, \"Annual_Premium\"] = np.NaN\n"
   ]
  },
  {
   "cell_type": "markdown",
   "metadata": {},
   "source": [
    "#### 3.2 Analyse der nicht vorhandenen Werte <a class=\"anchor\" id=\"section_3_2\"></a>"
   ]
  },
  {
   "cell_type": "markdown",
   "metadata": {},
   "source": [
    "#### 3.2.1 Löschen der 51 fehlerhaften Datensätze <a class=\"anchor\" id=\"section_3_2_1\"></a>"
   ]
  },
  {
   "cell_type": "markdown",
   "metadata": {},
   "source": [
    "Wie im Abschnitt Data Unterstanding beschrieben wurden 51 Datensätze mit vielen fehlenden Werten gefunden. Da diese keinen signifikanten Einfluss auf das Modell haben werden, werden sie entfernt."
   ]
  },
  {
   "cell_type": "code",
   "execution_count": null,
   "metadata": {},
   "outputs": [],
   "source": [
    "# remove faulty data sets\n",
    "# bad_train was generated before and contains 51 data sets that we want to remove\n",
    "train = train.loc[~train[\"id\"].isin(bad_train[\"id\"].to_numpy())]  # ~ = not\n",
    "train.isna().sum()\n"
   ]
  },
  {
   "cell_type": "markdown",
   "metadata": {},
   "source": [
    "#### 3.3 Imputation der fehlenden Werte <a class=\"anchor\" id=\"section_3_3\"></a>\n"
   ]
  },
  {
   "cell_type": "markdown",
   "metadata": {},
   "source": [
    "##### 3.3.1 Imputation der Variable Age <a class=\"anchor\" id=\"section_3_3_1_1\"></a>"
   ]
  },
  {
   "cell_type": "code",
   "execution_count": null,
   "metadata": {},
   "outputs": [],
   "source": [
    "# Imuptationsverfahren wird ganz am Anfang, nach den Imports festgelegt\n",
    "# MEAN\n",
    "if age_imputer == \"simple_mean\":\n",
    "    train_imputer_age_mean = SimpleImputer(\n",
    "        strategy=\"mean\", missing_values=np.nan)\n",
    "    train_imputer_age_mean = train_imputer_age_mean.fit(train[[\"Age\"]])\n",
    "    train[\"Age\"] = train_imputer_age_mean.transform(train[[\"Age\"]])\n",
    "\n",
    "# MEDIAN\n",
    "if age_imputer == \"simple_median\":\n",
    "    train_imputer_age_median = SimpleImputer(\n",
    "        strategy=\"median\", missing_values=np.nan)\n",
    "    train_imputer_age_median = train_imputer_age_median.fit(train[[\"Age\"]])\n",
    "    train[\"Age\"] = train_imputer_age_median.transform(train[[\"Age\"]])\n",
    "\n",
    "# HOT CODE LOCF\n",
    "if age_imputer == \"hot_code_locf\":\n",
    "    train[\"Age\"].fillna(method=\"ffill\", inplace=True)\n",
    "\n",
    "train.isna().sum()\n"
   ]
  },
  {
   "cell_type": "markdown",
   "metadata": {},
   "source": [
    "##### 3.3.2 Imputation der Variable Annual_Premium <a class=\"anchor\" id=\"section_3_3_1_2\"></a>"
   ]
  },
  {
   "cell_type": "code",
   "execution_count": null,
   "metadata": {},
   "outputs": [],
   "source": [
    "# MEAN\n",
    "if annual_premium_imputer == \"simple_mean\":\n",
    "    train_imputer_age_mean = SimpleImputer(\n",
    "        strategy=\"mean\", missing_values=np.nan)\n",
    "    train_imputer_age_mean = train_imputer_age_mean.fit(\n",
    "        train[[\"Annual_Premium\"]])\n",
    "    train[\"Annual_Premium\"] = train_imputer_age_mean.transform(\n",
    "        train[[\"Annual_Premium\"]])\n",
    "\n",
    "# MEDIAN\n",
    "if annual_premium_imputer == \"simple_median\":\n",
    "    train_imputer_age_median = SimpleImputer(\n",
    "        strategy=\"median\", missing_values=np.nan)\n",
    "    train_imputer_age_median = train_imputer_age_median.fit(\n",
    "        train[[\"Annual_Premium\"]])\n",
    "    train[\"Annual_Premium\"] = train_imputer_age_median.transform(\n",
    "        train[[\"Annual_Premium\"]])\n",
    "\n",
    "# HOT CODE LOCF\n",
    "if annual_premium_imputer == \"hot_code_locf\":\n",
    "    train[\"Annual_Premium\"].fillna(method=\"ffill\", inplace=True)\n",
    "\n",
    "train.isna().sum()\n"
   ]
  },
  {
   "cell_type": "markdown",
   "metadata": {},
   "source": [
    "##### 3.3.4 Ersetzung der fehlenden Werte kategorialer Variablen <a class=\"anchor\" id=\"section_3_3_4\"></a>"
   ]
  },
  {
   "cell_type": "markdown",
   "metadata": {},
   "source": [
    "##### 3.3.4.1 Imputation der Variable Gender <a class=\"anchor\" id=\"section_3_3_4_1\"></a>"
   ]
  },
  {
   "cell_type": "code",
   "execution_count": null,
   "metadata": {},
   "outputs": [],
   "source": [
    "train_imputer_age_median = SimpleImputer(\n",
    "    missing_values=np.nan, strategy=\"most_frequent\")\n",
    "train_imputer_age_median = train_imputer_age_median.fit(train[[\"Gender\"]])\n",
    "train[\"Gender\"] = train_imputer_age_median.transform(train[[\"Gender\"]])\n",
    "train.isna().sum()\n"
   ]
  },
  {
   "cell_type": "markdown",
   "metadata": {},
   "source": [
    "#### 3.4. Sampling <a class=\"anchor\" id=\"section_3_4\"></a>\n"
   ]
  },
  {
   "cell_type": "markdown",
   "metadata": {},
   "source": [
    "- Betrachtung der Zielvariable `Response`.\n",
    "- Insgesamter Datensatz der Zielvariable beträgt: 380948 Datensätze\n",
    "- Davon True: 46695 Datensätze, das macht 12% des Datensatzes aus. Dies ist die minority class\n",
    "- Davon False: 334253 Datensätze, das macht 88% des Datessatzes aus. Dies ist die majority class"
   ]
  },
  {
   "cell_type": "code",
   "execution_count": null,
   "metadata": {},
   "outputs": [],
   "source": [
    "sns.set(rc={\"figure.figsize\":(10, 5)})\n",
    "\n",
    "countplot = sns.countplot(data=train, x=\"Response\")\n",
    "\n",
    "countplot.set_xlabel(\"Response\", fontsize = 14, weight=\"bold\")\n",
    "countplot.set_ylabel(\"Count\", fontsize = 14, weight=\"bold\")\n",
    "\n",
    "plt.tick_params(axis=\"both\", labelsize=12)\n",
    "countplot.set_title(\"Balkendiagramm der Zielvariable Response\" + \"\\n\", fontsize = 16, weight=\"bold\")"
   ]
  },
  {
   "cell_type": "code",
   "execution_count": null,
   "metadata": {},
   "outputs": [],
   "source": [
    "#minority_class\n",
    "minority_class_len = len(train[train[\"Response\"] == True])\n",
    "print(f\"Die Variable Response enthält {minority_class_len} Datensätze die den Wert True enthalten.\")\n",
    "\n",
    "#majority_class\n",
    "majority_class_len = len(train[train[\"Response\"] == False])\n",
    "print(f\"Die Variable Response enthält {majority_class_len} Datensätze die den Wert False enthalten.\")\n",
    "\n",
    "selected_values = train[\"Response\"].value_counts(normalize=True)\n",
    "print(selected_values)"
   ]
  },
  {
   "cell_type": "markdown",
   "metadata": {},
   "source": [
    "##### 3.4.1. Undersampling <a class=\"anchor\" id=\"section_3_4_1\"></a>"
   ]
  },
  {
   "cell_type": "code",
   "execution_count": null,
   "metadata": {},
   "outputs": [],
   "source": [
    "def undersampling_dataset(imbalanced_dataset):\n",
    "    for element in imbalanced_dataset:\n",
    "        #Variable \"Response\" values count as integer\n",
    "        response_false_count, response_true_count = imbalanced_dataset[\"Response\"].value_counts()\n",
    "        \n",
    "        #Seperate in bool values (True and False values)\n",
    "        seperate_response_false = imbalanced_dataset[imbalanced_dataset[\"Response\"] == False]\n",
    "        seperate_response_true = imbalanced_dataset[imbalanced_dataset[\"Response\"] == True]\n",
    "        \n",
    "        #Undersampling to balance imbalanced datasets --> deleting samples from the majority class\n",
    "        response_false_undersampling = seperate_response_false.sample(response_true_count)\n",
    "        global undersampling\n",
    "        undersampling = pd.concat([response_false_undersampling, seperate_response_true], axis = 0)    \n",
    "\n",
    "        #Plot after Undersampling\n",
    "        sns.set(rc={\"figure.figsize\":(10, 5)}) \n",
    "        countplot =sns.countplot(x=\"Response\", data=undersampling)\n",
    "        countplot.set_title(\"Balkendiagramm:\" + \"\\n\" + \"Undersampling der Zielvariable Response\" + \"\\n\", fontsize = 16, weight=\"bold\")\n",
    "        countplot.set_xlabel(\"Response\", fontsize = 14, weight=\"bold\")\n",
    "        countplot.set_ylabel(\"Count\", fontsize = 14, weight=\"bold\")\n",
    "        \n",
    "        \n",
    "undersampling_dataset(train)"
   ]
  },
  {
   "cell_type": "markdown",
   "metadata": {},
   "source": [
    "- Datensätze aus der majority_class werden zufällig entfernt.\n",
    "    - Daraus entsteht eine identische Anzahl an Datensätzen für die Zielvariable `Response` mit den Ausprägungen True und False.\n",
    "    - Der Datensatz wird balanciert, indem die gleiche Anzahl an Datensätzen von True zufällig für False gezogen wird."
   ]
  },
  {
   "cell_type": "code",
   "execution_count": null,
   "metadata": {},
   "outputs": [],
   "source": [
    "#minority_class\n",
    "minority_class_len = len(undersampling[undersampling[\"Response\"] == True])\n",
    "print(f\"Die Variable Response enthält {minority_class_len} Datensätze die den Wert True enthalten.\")\n",
    "\n",
    "#majority_class\n",
    "majority_class_len = len(undersampling[undersampling[\"Response\"] == False])\n",
    "print(f\"Die Variable Response enthält {majority_class_len} Datensätze die den Wert False enthalten.\")\n",
    "\n",
    "selected_values = undersampling[\"Response\"].value_counts(normalize=True)\n",
    "print(selected_values)\n"
   ]
  },
  {
   "cell_type": "markdown",
   "metadata": {},
   "source": [
    "##### 3.4.2. Oversampling <a class=\"anchor\" id=\"section_3_4_2\"></a>"
   ]
  },
  {
   "cell_type": "code",
   "execution_count": null,
   "metadata": {},
   "outputs": [],
   "source": [
    "def oversampling_dataset(imbalanced_dataset):\n",
    "    for element in imbalanced_dataset:\n",
    "        #Variable \"Response\" values count as integer\n",
    "        response_false_count, response_true_count = imbalanced_dataset[\"Response\"].value_counts()\n",
    "        \n",
    "        #Seperate in bool values (True and False values)\n",
    "        seperate_response_false = imbalanced_dataset[imbalanced_dataset[\"Response\"] == False]\n",
    "        seperate_response_true = imbalanced_dataset[imbalanced_dataset[\"Response\"] == True]\n",
    "        \n",
    "        #Undersampling to balance imbalanced datasets --> deleting samples from the majority class\n",
    "        response_true_oversampling = seperate_response_true.sample(response_false_count, replace=True)\n",
    "        global oversampling\n",
    "        oversampling = pd.concat([response_true_oversampling, seperate_response_false], axis = 0)    \n",
    "\n",
    "        #Plot after Oversampling\n",
    "        sns.set(rc={\"figure.figsize\":(10, 5)}) \n",
    "        countplot =sns.countplot(x=\"Response\", data=oversampling)\n",
    "        countplot.set_title(\"Balkendiagramm:\" + \"\\n\" + \"Oversampling der Zielvariable Response\" + \"\\n\", fontsize = 16, weight=\"bold\")\n",
    "        countplot.set_xlabel(\"Response\", fontsize = 14, weight=\"bold\")\n",
    "        countplot.set_ylabel(\"Count\", fontsize = 14, weight=\"bold\")\n",
    "        \n",
    "        \n",
    "oversampling_dataset(train)"
   ]
  },
  {
   "cell_type": "markdown",
   "metadata": {},
   "source": [
    "- Datensätze aus der minority_class werden durch Generierung künstlicher Beispiele aufgestockt.\n",
    "    - Daraus entsteht eine identische Anzahl an Datensätzen für die Zielvariable `Response` mit den Ausprägungen True und False.\n",
    "    - Der Datensatz wird balanciert, indem die gleiche Anzahl an Datensätzen von False künstlich für True erzeugt wird."
   ]
  },
  {
   "cell_type": "code",
   "execution_count": null,
   "metadata": {},
   "outputs": [],
   "source": [
    "#minority_class\n",
    "minority_class_len = len(oversampling[oversampling[\"Response\"] == True])\n",
    "print(f\"Die Variable Response enthält {minority_class_len} Datensätze die den Wert True enthalten.\")\n",
    "\n",
    "#majority_class\n",
    "majority_class_len = len(oversampling[oversampling[\"Response\"] == False])\n",
    "print(f\"Die Variable Response enthält {majority_class_len} Datensätze die den Wert False enthalten.\")\n",
    "\n",
    "selected_values = oversampling[\"Response\"].value_counts(normalize=True)\n",
    "print(selected_values)"
   ]
  },
  {
   "cell_type": "markdown",
   "metadata": {},
   "source": [
    "#### 3.5. Feature Engineering <a class=\"anchor\" id=\"section_3_5\"></a>\n"
   ]
  },
  {
   "cell_type": "markdown",
   "metadata": {},
   "source": [
    "##### 3.5.1. Altersklassen als Feature <a class=\"anchor\" id=\"section_3_5_1\"></a>"
   ]
  },
  {
   "cell_type": "markdown",
   "metadata": {},
   "source": [
    "- Eingrenzung der Variable `Age` in 8 Quantile (q=8) um die Intervalle festzustellen.\n",
    "- Das Ergebnis der Funktion \".qcut\" ist eine Variable des Datentypes \"Category\" da jedes Intervall (bin) einer Kategorie entspricht.\n",
    "- Die Kategorien sind in einer mathematischen Notation beschrieben.\n",
    "    - (exklusive, inklusive]\n",
    "- Der Kategorien der Variable `Age_bin` sind:\n",
    "    - (19.999,23] < (23,25] < (25,28] < (28,37] < (37,43] < (43,49] < (49,59] < (59,85]"
   ]
  },
  {
   "cell_type": "code",
   "execution_count": null,
   "metadata": {},
   "outputs": [],
   "source": [
    "train['Age_bins'] = pd.qcut(train.Age, q=8)\n",
    "train['Age_bins'].value_counts().sort_index()\n"
   ]
  },
  {
   "cell_type": "code",
   "execution_count": null,
   "metadata": {},
   "outputs": [],
   "source": [
    "octiles_list = [0, 0.125, 0.25, 0.375, 0.5, 0.625, 0.75, 0.875, 1]\n",
    "octiles = train[\"Age\"].quantile(octiles_list)\n",
    "\n",
    "plt.figure(figsize= (22, 10))\n",
    "fig, ax = plt.subplots()\n",
    "train['Age'].hist(bins=65, color='#A9C5D3', \n",
    "                             edgecolor='black', grid=False)\n",
    "\n",
    "for quantile in octiles:\n",
    "    axvlineplot = plt.axvline(quantile, color='r')\n",
    "ax.legend([axvlineplot], ['Quantile'], fontsize=16)\n",
    "\n",
    "ax.set_title('Age Histogramm mit Quantile', \n",
    "             fontsize=24, weight=\"bold\")\n",
    "ax.set_xlabel('Age', fontsize=14, weight=\"bold\")\n",
    "ax.set_ylabel('Count', fontsize=14, weight=\"bold\")\n",
    "\n",
    "# start graph just before 20 (no smaller values)\n",
    "ax.set_xlim(19, 90)\n",
    "\n",
    "# show ticks at octiles and steps of 10\n",
    "ax.set_xticks([*octiles.to_numpy(), *range(20,90,10)]); # ; prevents output in console"
   ]
  },
  {
   "cell_type": "markdown",
   "metadata": {},
   "source": [
    "- Zur besseren Leserlichkeit wurden die Kategorien mit dem Parameter \"labels\" händisch eingeteilt, dabei ist darauf zu achten welche Werte exklusiv und inklusiv sind."
   ]
  },
  {
   "cell_type": "code",
   "execution_count": null,
   "metadata": {},
   "outputs": [],
   "source": [
    "def numerical_binning(data):\n",
    "        data['Age_bins'] = pd.qcut(\n",
    "            data.Age, q=8, labels=[\n",
    "                (\"20-23\"),(\"24-25\"),(\"26-28\"),(\"29-37\"),(\"38-43\"),(\"44-49\"),(\"50-59\"),(\"60-85\")\n",
    "                ]\n",
    "            )\n",
    "        return data['Age_bins'].value_counts().sort_index()\n",
    "\n",
    "numerical_binning(train)\n"
   ]
  },
  {
   "cell_type": "code",
   "execution_count": null,
   "metadata": {},
   "outputs": [],
   "source": [
    "sns.set(rc={\"figure.figsize\": (22, 10)})\n",
    "histplot =sns.histplot(train, x=\"Age\", hue=\"Age_bins\", bins=65)\n",
    "\n",
    "histplot.set_title('Histogram der Variable Age in Zusammenhang mit Age_bins', \n",
    "             fontsize=24, weight=\"bold\")\n",
    "histplot.set_xlabel('Age', fontsize=14, weight=\"bold\")\n",
    "histplot.set_ylabel('Count', fontsize=14, weight=\"bold\")\n",
    "histplot.set_xlim(19, 85)\n",
    "histplot.set_xticks(range(20,90,1));"
   ]
  },
  {
   "cell_type": "markdown",
   "metadata": {},
   "source": [
    "##### 3.5.2. Features durch Aggregationen, Differenzen und Verhältnisse <a class=\"anchor\" id=\"section_3_5_2\"></a>"
   ]
  },
  {
   "cell_type": "code",
   "execution_count": null,
   "metadata": {},
   "outputs": [],
   "source": [
    "train[\"Gender\"] = train[\"Gender\"].astype(pd.CategoricalDtype())\n",
    "def mean_encoding(data):\n",
    "        selected_columns = data.select_dtypes(include = [\"category\"])\n",
    "        for columns in selected_columns:\n",
    "            \n",
    "        #mean encoding using Annual_Premium as the numeric variable// \n",
    "        #group by categorical variables and obtain the mean over the numeric variable\n",
    "            mean = data.groupby(columns)['Annual_Premium'].agg(['mean'])\n",
    "            mean.columns = ['mean_Annual_Premium_by_' + columns]\n",
    "\n",
    "        #joining the column mean_Annual_Premium_by_ to the main dataset (train)\n",
    "            global train\n",
    "            train = pd.merge(train, mean, left_on = columns, right_index=True, how = 'left')\n",
    "\n",
    "        #mean encoding using Age as the numeric variable// \n",
    "            mean = data.groupby(columns)['Age'].agg(['mean'])\n",
    "            mean.columns = ['mean_Age_by_' + columns]\n",
    "            train = pd.merge(train, mean, left_on = columns, right_index=True, how = 'left')\n",
    "\n",
    "        #mean encoding using Vintage as the numeric variable// \n",
    "            mean = data.groupby(columns)['Vintage'].agg(['mean'])\n",
    "            mean.columns = ['mean_Vintage_by_' + columns]\n",
    "            train = pd.merge(train, mean, left_on = columns, right_index=True, how = 'left')\n",
    "\n",
    "mean_encoding(train)"
   ]
  },
  {
   "cell_type": "code",
   "execution_count": null,
   "metadata": {},
   "outputs": [],
   "source": [
    "train.dtypes"
   ]
  },
  {
   "cell_type": "markdown",
   "metadata": {},
   "source": [
    "##### 3.5.3. weitere Features <a class=\"anchor\" id=\"section_3_5_3\"></a>"
   ]
  }
 ],
 "metadata": {
  "interpreter": {
   "hash": "636088ffbd2e162864942ceb92200db462cb0bed77ed962033db15e6c05a945f"
  },
  "kernelspec": {
   "display_name": "Python 3",
   "language": "python",
   "name": "python3"
  },
  "language_info": {
   "codemirror_mode": {
    "name": "ipython",
    "version": 3
   },
   "file_extension": ".py",
   "mimetype": "text/x-python",
   "name": "python",
   "nbconvert_exporter": "python",
   "pygments_lexer": "ipython3",
   "version": "3.6.9"
  }
 },
 "nbformat": 4,
 "nbformat_minor": 2
}
