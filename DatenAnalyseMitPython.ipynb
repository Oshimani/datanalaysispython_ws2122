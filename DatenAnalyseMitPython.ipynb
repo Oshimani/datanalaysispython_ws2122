{
 "cells": [
  {
   "cell_type": "markdown",
   "metadata": {},
   "source": [
    "### Inhaltsverzeichnis\n",
    "\n",
    "* [1. Business Understanding](#chapter1)\n",
    "    * [1.1. Projektbeschreibung](#section_1_1)\n",
    "    * [1.2. Data Dictionary](#section_1_2)\n",
    "* [2. Data Understanding](#chapter2)\n",
    "    * [2.1. Pakete importieren](#section_2_1)\n",
    "    * [2.2. Daten einlesen](#section_2_2)\n",
    "    * [2.3. Datensatz anzeigen](#section_2_3)\n",
    "    * [2.4. Spaltennamen und Datentypen](#section_2_4)\n",
    "    * [2.5. Datentypen anpassen](#section_2_5)\n",
    "        * [2.5.1 Variable Age](#section_2_5_1)\n",
    "        * [2.5.2 Variablen Driving_License, Previously_Insured und Vehicle_Damage](#section_2_5_2)\n",
    "        * [2.5.3 Variable Gender](#section_2_5_3)\n",
    "        * [2.5.4 Variable Region Code](#section_2_5_4)\n",
    "        * [2.5.5 Variable Vehicle_Age](#section_2_5_5)\n",
    "        * [2.5.6 Variable Policy_Sales_Channel](#section_2_5_6)\n",
    "        * [2.5.7 Variable Vintage](#section_2_5_7)\n",
    "        * [2.5.8 Variable Unnamed: 0](#section_2_5_8)\n",
    "        * [2.5.9 Angepasste Datentypen anzeigen](#section_2_5_9)\n",
    "    * [2.6. Deskriptive Analyse](#section_2_6)\n",
    "        * [2.6.1 Kennzahlen zur Beschreibung des Datensatz](#section_2_6_1)\n",
    "        * [2.6.2 Prüfung auf Missing Values](#section_2_6_2)\n",
    "        * [2.6.3 Histogramm der Variablen Age und Driving_License](#section_2_6_3)\n",
    "        * [2.6.4 Balkendiagramm der Variablen Age, Vehicle_Age und Gender](#section_2_6_4)\n",
    "    * [2.7. Korrelation der Variablen](#section_2_7)\n",
    "    * [2.8. Interpretation der Variablen](#section_2_8)\n",
    "        * [2.8.1 Interpretation der Variable Gender](#section_2_8_1)\n",
    "        * [2.8.2 Interpretation der Variable Age](#section_2_8_2)\n",
    "        * [2.8.3 Interpretation der Variable Driving_License](#section_2_8_3)\n",
    "        * [2.8.4 Interpretation der Variable Region_Code](#section_2_8_4)\n",
    "        * [2.8.5 Interpretation der Variable Previously_Insured](#section_2_8_5)\n",
    "        * [2.8.6 Interpretation der Variable Vehicle_Age](#section_2_8_6)\n",
    "        * [2.8.7 Interpretation der Variable Vehicle_Damage](#section_2_8_7)\n",
    "        * [2.8.8 Interpretation der Variable Annual_Premium](#section_2_8_8)\n",
    "        * [2.8.9 Interpretation der Variable Policy_Sales_Channel](#section_2_8_9)\n",
    "        * [2.8.10 Interpretation der Variable Vintage](#section_2_8_10)\n",
    "        * [2.8.11 Interpretation der Variable Response](#section_2_8_11)"
   ]
  },
  {
   "cell_type": "markdown",
   "metadata": {},
   "source": [
    "### 1. Business Understanding <a class=\"anchor\" id=\"chapter1\"></a>"
   ]
  },
  {
   "cell_type": "markdown",
   "metadata": {},
   "source": [
    "#### 1.1 Projektbeschreibung <a class=\"anchor\" id=\"section_1_1\"></a>"
   ]
  },
  {
   "cell_type": "markdown",
   "metadata": {},
   "source": [
    "Das Forschungsteam *ProInsurance* wird damit beauftragt, dass Projekt Cross-Selling-Prediction für den Kunden *NextGen Insurance* durchzuführen. \n",
    "Der Kunde benötigt Hilfe bei der Erstellung eines Modells, mit dem sich vorhersagen lässt, ob die Versicherungsnehmer des letzten Jahres auch an einer angebotenen Kfz-Versicherung interessiert sein werden.\n",
    "Der Kunde wünscht die Durchführung des Projektes innerhalb eines knapp kalkulierten Zeitraums.\n",
    "\n",
    "Zu diesem Zweck erhält das Forschungsteam von ihrem Auftraggeber einen Datenbestand bestehend aus > 300.000 Datensätzen. Zusätzlich ein Data Dictionary, welches eine kurze Beschreibung der Daten liefert.\n",
    "\n",
    "Die *NextGen Insurance* hat mehrere Forschungsteams beauftragt an einer Lösung zu arbeiten, damit Sie sich nach Ende der Präsentationen für die beste Alternative entscheiden können."
   ]
  },
  {
   "cell_type": "markdown",
   "metadata": {},
   "source": [
    "#### 1.2 Data Dictionary <a class=\"anchor\" id=\"section_1_2\"></a>"
   ]
  },
  {
   "cell_type": "markdown",
   "metadata": {},
   "source": [
    "Unser Auftraggeber die *NextGen Insurance* stellt uns folgendes Data Dictionary und damit verbunden folgende Beschreibungen der einzelnen Variablen zur Verfügung:\n",
    "\n",
    "**1 - id : Unique ID for the customer<br>\n",
    "2 - Gender : Gender of the customer<br>\n",
    "3 - Age : Age of the customer <br>\n",
    "4 - Driving_License : 0 : Customer doesn't have DL, 1 : Customer has DL<br>\n",
    "5 - Region_Code : Unique code for the region of the customer<br>\n",
    "6 - Previously_Insured : 0 : Customer doesn't have Vehicle Insurance, 1 : Customer has Vehicle Insurance<br> \n",
    "7 - Vehicle_Age : Age of the Vehicle<br>\n",
    "8 - Vehicle_Damage : 1 : Customer got his/her vehicle damaged in the past. 0 : Customer didn't get his/her vehicle damaged in the past<br>\n",
    "9 - Annual_Premium : The amount customer needs to pay as premium in the year for Health insurance<br>\n",
    "10 - Policy_Sales_Channel : Anonymized Code for the channel of outreaching to the customer ie. Different Agents, Over Mail, Over Phone, In Person, etc.<br>\n",
    "11 - Vintage : Number of Days customer has been associated with the company<br>\n",
    "12 - Response : 1 : Customer is interested, 0 : Customer is not interested**"
   ]
  },
  {
   "cell_type": "markdown",
   "metadata": {},
   "source": [
    "### 2. Data Understanding <a class=\"anchor\" id=\"chapter2\"></a>"
   ]
  },
  {
   "cell_type": "markdown",
   "metadata": {},
   "source": [
    "#### 2.1 Pakete importieren <a class=\"anchor\" id=\"section_2_1\"></a>"
   ]
  },
  {
   "cell_type": "code",
   "execution_count": 1,
   "metadata": {},
   "outputs": [],
   "source": [
    "import pandas as pd\n",
    "import numpy as np\n",
    "from matplotlib import pyplot as plt\n",
    "import seaborn as sns"
   ]
  },
  {
   "cell_type": "markdown",
   "metadata": {},
   "source": [
    "#### 2.2 Daten einlesen <a class=\"anchor\" id=\"section_2_2\"></a>"
   ]
  },
  {
   "cell_type": "markdown",
   "metadata": {},
   "source": [
    "Der Datensatz wurde von der *NextGen Insurance* bereitgestellt.<br>\n",
    "Der Datensatz wird zur Analyse eingelesen:\n",
    "- Entfernung des Trennzeichen \"$\".\n",
    "- Umwandlung von Zelleninhalten in Wahrheitswerte (Yes, yes, 1; No, no, 0).\n",
    "- Einrücken des Datensatzes.\n",
    "- Löschen einer Unbenannten Spalte die durch das Einrücken entstanden ist."
   ]
  },
  {
   "cell_type": "code",
   "execution_count": 2,
   "metadata": {},
   "outputs": [],
   "source": [
    "data = pd.read_csv(\"train.csv\",\n",
    "            sep=\"$\", \n",
    "            true_values=[\"Yes\", \"yes\", \"1\"],\n",
    "            false_values=[\"No\", \"no\", \"0\"],\n",
    "            index_col=False,\n",
    "            low_memory=False\n",
    ")"
   ]
  },
  {
   "cell_type": "markdown",
   "metadata": {},
   "source": [
    "#### 2.3 Datensatz Anzeigen <a class=\"anchor\" id=\"section_2_3\"></a>"
   ]
  },
  {
   "cell_type": "markdown",
   "metadata": {},
   "source": [
    "Zur Betrachtung der Variablen aus dem Datensatz werden die ersten zwanzig Einträge angezeigt:"
   ]
  },
  {
   "cell_type": "code",
   "execution_count": 3,
   "metadata": {},
   "outputs": [
    {
     "data": {
      "text/html": [
       "<div>\n",
       "<style scoped>\n",
       "    .dataframe tbody tr th:only-of-type {\n",
       "        vertical-align: middle;\n",
       "    }\n",
       "\n",
       "    .dataframe tbody tr th {\n",
       "        vertical-align: top;\n",
       "    }\n",
       "\n",
       "    .dataframe thead th {\n",
       "        text-align: right;\n",
       "    }\n",
       "</style>\n",
       "<table border=\"1\" class=\"dataframe\">\n",
       "  <thead>\n",
       "    <tr style=\"text-align: right;\">\n",
       "      <th></th>\n",
       "      <th>Unnamed: 0</th>\n",
       "      <th>id</th>\n",
       "      <th>Gender</th>\n",
       "      <th>Age</th>\n",
       "      <th>Driving_License</th>\n",
       "      <th>Region_Code</th>\n",
       "      <th>Previously_Insured</th>\n",
       "      <th>Vehicle_Age</th>\n",
       "      <th>Vehicle_Damage</th>\n",
       "      <th>Annual_Premium</th>\n",
       "      <th>Policy_Sales_Channel</th>\n",
       "      <th>Vintage</th>\n",
       "      <th>Response</th>\n",
       "    </tr>\n",
       "  </thead>\n",
       "  <tbody>\n",
       "    <tr>\n",
       "      <th>0</th>\n",
       "      <td>0</td>\n",
       "      <td>1</td>\n",
       "      <td>Male</td>\n",
       "      <td>44</td>\n",
       "      <td>False</td>\n",
       "      <td>28.0</td>\n",
       "      <td>False</td>\n",
       "      <td>&gt; 2 Years</td>\n",
       "      <td>True</td>\n",
       "      <td>40454.0</td>\n",
       "      <td>26.0</td>\n",
       "      <td>217</td>\n",
       "      <td>True</td>\n",
       "    </tr>\n",
       "    <tr>\n",
       "      <th>1</th>\n",
       "      <td>1</td>\n",
       "      <td>2</td>\n",
       "      <td>Male</td>\n",
       "      <td>76</td>\n",
       "      <td>False</td>\n",
       "      <td>3.0</td>\n",
       "      <td>False</td>\n",
       "      <td>1-2 Year</td>\n",
       "      <td>False</td>\n",
       "      <td>33536.0</td>\n",
       "      <td>26.0</td>\n",
       "      <td>183</td>\n",
       "      <td>False</td>\n",
       "    </tr>\n",
       "    <tr>\n",
       "      <th>2</th>\n",
       "      <td>2</td>\n",
       "      <td>3</td>\n",
       "      <td>Male</td>\n",
       "      <td>47</td>\n",
       "      <td>False</td>\n",
       "      <td>28.0</td>\n",
       "      <td>False</td>\n",
       "      <td>&gt; 2 Years</td>\n",
       "      <td>True</td>\n",
       "      <td>38294.0</td>\n",
       "      <td>26.0</td>\n",
       "      <td>27</td>\n",
       "      <td>True</td>\n",
       "    </tr>\n",
       "    <tr>\n",
       "      <th>3</th>\n",
       "      <td>3</td>\n",
       "      <td>4</td>\n",
       "      <td>Male</td>\n",
       "      <td>21</td>\n",
       "      <td>True</td>\n",
       "      <td>11.0</td>\n",
       "      <td>True</td>\n",
       "      <td>&lt; 1 Year</td>\n",
       "      <td>False</td>\n",
       "      <td>28619.0</td>\n",
       "      <td>152.0</td>\n",
       "      <td>203</td>\n",
       "      <td>False</td>\n",
       "    </tr>\n",
       "    <tr>\n",
       "      <th>4</th>\n",
       "      <td>4</td>\n",
       "      <td>5</td>\n",
       "      <td>Female</td>\n",
       "      <td>29</td>\n",
       "      <td>True</td>\n",
       "      <td>41.0</td>\n",
       "      <td>True</td>\n",
       "      <td>&lt; 1 Year</td>\n",
       "      <td>False</td>\n",
       "      <td>27496.0</td>\n",
       "      <td>152.0</td>\n",
       "      <td>39</td>\n",
       "      <td>False</td>\n",
       "    </tr>\n",
       "    <tr>\n",
       "      <th>5</th>\n",
       "      <td>5</td>\n",
       "      <td>6</td>\n",
       "      <td>Female</td>\n",
       "      <td>24</td>\n",
       "      <td>False</td>\n",
       "      <td>33.0</td>\n",
       "      <td>False</td>\n",
       "      <td>&lt; 1 Year</td>\n",
       "      <td>True</td>\n",
       "      <td>2630.0</td>\n",
       "      <td>160.0</td>\n",
       "      <td>176</td>\n",
       "      <td>False</td>\n",
       "    </tr>\n",
       "    <tr>\n",
       "      <th>6</th>\n",
       "      <td>6</td>\n",
       "      <td>7</td>\n",
       "      <td>Male</td>\n",
       "      <td>23</td>\n",
       "      <td>False</td>\n",
       "      <td>11.0</td>\n",
       "      <td>False</td>\n",
       "      <td>&lt; 1 Year</td>\n",
       "      <td>True</td>\n",
       "      <td>23367.0</td>\n",
       "      <td>152.0</td>\n",
       "      <td>249</td>\n",
       "      <td>False</td>\n",
       "    </tr>\n",
       "    <tr>\n",
       "      <th>7</th>\n",
       "      <td>7</td>\n",
       "      <td>8</td>\n",
       "      <td>Female</td>\n",
       "      <td>56</td>\n",
       "      <td>False</td>\n",
       "      <td>28.0</td>\n",
       "      <td>False</td>\n",
       "      <td>1-2 Year</td>\n",
       "      <td>True</td>\n",
       "      <td>32031.0</td>\n",
       "      <td>26.0</td>\n",
       "      <td>72</td>\n",
       "      <td>True</td>\n",
       "    </tr>\n",
       "    <tr>\n",
       "      <th>8</th>\n",
       "      <td>8</td>\n",
       "      <td>9</td>\n",
       "      <td>Female</td>\n",
       "      <td>24</td>\n",
       "      <td>True</td>\n",
       "      <td>3.0</td>\n",
       "      <td>True</td>\n",
       "      <td>&lt; 1 Year</td>\n",
       "      <td>False</td>\n",
       "      <td>27619.0</td>\n",
       "      <td>152.0</td>\n",
       "      <td>28</td>\n",
       "      <td>False</td>\n",
       "    </tr>\n",
       "    <tr>\n",
       "      <th>9</th>\n",
       "      <td>9</td>\n",
       "      <td>10</td>\n",
       "      <td>Female</td>\n",
       "      <td>32</td>\n",
       "      <td>True</td>\n",
       "      <td>6.0</td>\n",
       "      <td>True</td>\n",
       "      <td>&lt; 1 Year</td>\n",
       "      <td>False</td>\n",
       "      <td>28771.0</td>\n",
       "      <td>152.0</td>\n",
       "      <td>80</td>\n",
       "      <td>False</td>\n",
       "    </tr>\n",
       "    <tr>\n",
       "      <th>10</th>\n",
       "      <td>10</td>\n",
       "      <td>11</td>\n",
       "      <td>Female</td>\n",
       "      <td>47</td>\n",
       "      <td>False</td>\n",
       "      <td>35.0</td>\n",
       "      <td>False</td>\n",
       "      <td>1-2 Year</td>\n",
       "      <td>True</td>\n",
       "      <td>47576.0</td>\n",
       "      <td>124.0</td>\n",
       "      <td>46</td>\n",
       "      <td>True</td>\n",
       "    </tr>\n",
       "    <tr>\n",
       "      <th>11</th>\n",
       "      <td>11</td>\n",
       "      <td>12</td>\n",
       "      <td>Female</td>\n",
       "      <td>24</td>\n",
       "      <td>True</td>\n",
       "      <td>50.0</td>\n",
       "      <td>True</td>\n",
       "      <td>&lt; 1 Year</td>\n",
       "      <td>False</td>\n",
       "      <td>48699.0</td>\n",
       "      <td>152.0</td>\n",
       "      <td>289</td>\n",
       "      <td>False</td>\n",
       "    </tr>\n",
       "    <tr>\n",
       "      <th>12</th>\n",
       "      <td>12</td>\n",
       "      <td>13</td>\n",
       "      <td>NaN</td>\n",
       "      <td>41</td>\n",
       "      <td>True</td>\n",
       "      <td>15.0</td>\n",
       "      <td>True</td>\n",
       "      <td>1-2 Year</td>\n",
       "      <td>False</td>\n",
       "      <td>31409.0</td>\n",
       "      <td>14.0</td>\n",
       "      <td>221</td>\n",
       "      <td>False</td>\n",
       "    </tr>\n",
       "    <tr>\n",
       "      <th>13</th>\n",
       "      <td>13</td>\n",
       "      <td>14</td>\n",
       "      <td>Male</td>\n",
       "      <td>76</td>\n",
       "      <td>False</td>\n",
       "      <td>28.0</td>\n",
       "      <td>False</td>\n",
       "      <td>1-2 Year</td>\n",
       "      <td>True</td>\n",
       "      <td>36770.0</td>\n",
       "      <td>13.0</td>\n",
       "      <td>15</td>\n",
       "      <td>False</td>\n",
       "    </tr>\n",
       "    <tr>\n",
       "      <th>14</th>\n",
       "      <td>14</td>\n",
       "      <td>15</td>\n",
       "      <td>Male</td>\n",
       "      <td>71</td>\n",
       "      <td>True</td>\n",
       "      <td>28.0</td>\n",
       "      <td>True</td>\n",
       "      <td>1-2 Year</td>\n",
       "      <td>False</td>\n",
       "      <td>46818.0</td>\n",
       "      <td>30.0</td>\n",
       "      <td>58</td>\n",
       "      <td>False</td>\n",
       "    </tr>\n",
       "    <tr>\n",
       "      <th>15</th>\n",
       "      <td>15</td>\n",
       "      <td>16</td>\n",
       "      <td>Male</td>\n",
       "      <td>37</td>\n",
       "      <td>False</td>\n",
       "      <td>6.0</td>\n",
       "      <td>False</td>\n",
       "      <td>1-2 Year</td>\n",
       "      <td>True</td>\n",
       "      <td>2630.0</td>\n",
       "      <td>156.0</td>\n",
       "      <td>147</td>\n",
       "      <td>True</td>\n",
       "    </tr>\n",
       "    <tr>\n",
       "      <th>16</th>\n",
       "      <td>16</td>\n",
       "      <td>17</td>\n",
       "      <td>Female</td>\n",
       "      <td>25</td>\n",
       "      <td>False</td>\n",
       "      <td>45.0</td>\n",
       "      <td>False</td>\n",
       "      <td>&lt; 1 Year</td>\n",
       "      <td>True</td>\n",
       "      <td>26218.0</td>\n",
       "      <td>160.0</td>\n",
       "      <td>256</td>\n",
       "      <td>False</td>\n",
       "    </tr>\n",
       "    <tr>\n",
       "      <th>17</th>\n",
       "      <td>17</td>\n",
       "      <td>18</td>\n",
       "      <td>Female</td>\n",
       "      <td>25</td>\n",
       "      <td>True</td>\n",
       "      <td>35.0</td>\n",
       "      <td>True</td>\n",
       "      <td>&lt; 1 Year</td>\n",
       "      <td>False</td>\n",
       "      <td>46622.0</td>\n",
       "      <td>152.0</td>\n",
       "      <td>299</td>\n",
       "      <td>False</td>\n",
       "    </tr>\n",
       "    <tr>\n",
       "      <th>18</th>\n",
       "      <td>18</td>\n",
       "      <td>19</td>\n",
       "      <td>Male</td>\n",
       "      <td>42</td>\n",
       "      <td>False</td>\n",
       "      <td>28.0</td>\n",
       "      <td>False</td>\n",
       "      <td>1-2 Year</td>\n",
       "      <td>True</td>\n",
       "      <td>33667.0</td>\n",
       "      <td>124.0</td>\n",
       "      <td>158</td>\n",
       "      <td>False</td>\n",
       "    </tr>\n",
       "    <tr>\n",
       "      <th>19</th>\n",
       "      <td>19</td>\n",
       "      <td>20</td>\n",
       "      <td>Female</td>\n",
       "      <td>60</td>\n",
       "      <td>False</td>\n",
       "      <td>33.0</td>\n",
       "      <td>False</td>\n",
       "      <td>1-2 Year</td>\n",
       "      <td>True</td>\n",
       "      <td>32363.0</td>\n",
       "      <td>124.0</td>\n",
       "      <td>102</td>\n",
       "      <td>True</td>\n",
       "    </tr>\n",
       "  </tbody>\n",
       "</table>\n",
       "</div>"
      ],
      "text/plain": [
       "    Unnamed: 0  id  Gender Age Driving_License Region_Code Previously_Insured  \\\n",
       "0            0   1    Male  44           False        28.0              False   \n",
       "1            1   2    Male  76           False         3.0              False   \n",
       "2            2   3    Male  47           False        28.0              False   \n",
       "3            3   4    Male  21            True        11.0               True   \n",
       "4            4   5  Female  29            True        41.0               True   \n",
       "5            5   6  Female  24           False        33.0              False   \n",
       "6            6   7    Male  23           False        11.0              False   \n",
       "7            7   8  Female  56           False        28.0              False   \n",
       "8            8   9  Female  24            True         3.0               True   \n",
       "9            9  10  Female  32            True         6.0               True   \n",
       "10          10  11  Female  47           False        35.0              False   \n",
       "11          11  12  Female  24            True        50.0               True   \n",
       "12          12  13     NaN  41            True        15.0               True   \n",
       "13          13  14    Male  76           False        28.0              False   \n",
       "14          14  15    Male  71            True        28.0               True   \n",
       "15          15  16    Male  37           False         6.0              False   \n",
       "16          16  17  Female  25           False        45.0              False   \n",
       "17          17  18  Female  25            True        35.0               True   \n",
       "18          18  19    Male  42           False        28.0              False   \n",
       "19          19  20  Female  60           False        33.0              False   \n",
       "\n",
       "   Vehicle_Age Vehicle_Damage  Annual_Premium Policy_Sales_Channel Vintage  \\\n",
       "0    > 2 Years           True         40454.0                 26.0     217   \n",
       "1     1-2 Year          False         33536.0                 26.0     183   \n",
       "2    > 2 Years           True         38294.0                 26.0      27   \n",
       "3     < 1 Year          False         28619.0                152.0     203   \n",
       "4     < 1 Year          False         27496.0                152.0      39   \n",
       "5     < 1 Year           True          2630.0                160.0     176   \n",
       "6     < 1 Year           True         23367.0                152.0     249   \n",
       "7     1-2 Year           True         32031.0                 26.0      72   \n",
       "8     < 1 Year          False         27619.0                152.0      28   \n",
       "9     < 1 Year          False         28771.0                152.0      80   \n",
       "10    1-2 Year           True         47576.0                124.0      46   \n",
       "11    < 1 Year          False         48699.0                152.0     289   \n",
       "12    1-2 Year          False         31409.0                 14.0     221   \n",
       "13    1-2 Year           True         36770.0                 13.0      15   \n",
       "14    1-2 Year          False         46818.0                 30.0      58   \n",
       "15    1-2 Year           True          2630.0                156.0     147   \n",
       "16    < 1 Year           True         26218.0                160.0     256   \n",
       "17    < 1 Year          False         46622.0                152.0     299   \n",
       "18    1-2 Year           True         33667.0                124.0     158   \n",
       "19    1-2 Year           True         32363.0                124.0     102   \n",
       "\n",
       "    Response  \n",
       "0       True  \n",
       "1      False  \n",
       "2       True  \n",
       "3      False  \n",
       "4      False  \n",
       "5      False  \n",
       "6      False  \n",
       "7       True  \n",
       "8      False  \n",
       "9      False  \n",
       "10      True  \n",
       "11     False  \n",
       "12     False  \n",
       "13     False  \n",
       "14     False  \n",
       "15      True  \n",
       "16     False  \n",
       "17     False  \n",
       "18     False  \n",
       "19      True  "
      ]
     },
     "execution_count": 3,
     "metadata": {},
     "output_type": "execute_result"
    }
   ],
   "source": [
    "data.head(20)"
   ]
  },
  {
   "cell_type": "markdown",
   "metadata": {},
   "source": [
    "#### 2.4 Spaltennamen und Datentypen <a class=\"anchor\" id=\"section_2_4\"></a>"
   ]
  },
  {
   "cell_type": "markdown",
   "metadata": {},
   "source": [
    "Um eventuelle Korrekturen vorzunehmen betrachten wir die Datentypen der im Datensatz enthaltenen Variablen.<br>\n",
    "- Die Spalten **Driving_License**, **Previously_Insured**, und **Vehicle_Damage** wurden nicht in den booleschen Datentypen gecastet. Dies ist ein Indikator dafür das diese Spalten invalide oder fehlende Werte enthalten.\n",
    "- Die Spalte **Age** wurde nicht in einen Integer oder Float gecastet, auch hier ist dies ein Indikator dafür, dass diese Spalte invalide oder fehlende Werte enthält. "
   ]
  },
  {
   "cell_type": "code",
   "execution_count": 4,
   "metadata": {},
   "outputs": [
    {
     "name": "stdout",
     "output_type": "stream",
     "text": [
      "<class 'pandas.core.frame.DataFrame'>\n",
      "RangeIndex: 380999 entries, 0 to 380998\n",
      "Data columns (total 13 columns):\n",
      " #   Column                Non-Null Count   Dtype  \n",
      "---  ------                --------------   -----  \n",
      " 0   Unnamed: 0            380999 non-null  int64  \n",
      " 1   id                    380999 non-null  int64  \n",
      " 2   Gender                379948 non-null  object \n",
      " 3   Age                   370107 non-null  object \n",
      " 4   Driving_License       380948 non-null  object \n",
      " 5   Region_Code           380999 non-null  object \n",
      " 6   Previously_Insured    380948 non-null  object \n",
      " 7   Vehicle_Age           380948 non-null  object \n",
      " 8   Vehicle_Damage        380948 non-null  object \n",
      " 9   Annual_Premium        380999 non-null  float64\n",
      " 10  Policy_Sales_Channel  380999 non-null  object \n",
      " 11  Vintage               380948 non-null  object \n",
      " 12  Response              380999 non-null  bool   \n",
      "dtypes: bool(1), float64(1), int64(2), object(9)\n",
      "memory usage: 35.2+ MB\n"
     ]
    }
   ],
   "source": [
    "data.info()"
   ]
  },
  {
   "cell_type": "markdown",
   "metadata": {},
   "source": [
    "#### 2.5 Datentypen anpassen <a class=\"anchor\" id=\"section_2_5\"></a>"
   ]
  },
  {
   "cell_type": "markdown",
   "metadata": {},
   "source": [
    "- Die zum Pandas Modul zugehörige Funktion \".unique()\" ermöglicht die Ausgabe aller einzigartigen Werte. Dies erleichtert das Nachvollziehen von Eingabefehlern um diese zu korrigieren."
   ]
  },
  {
   "cell_type": "markdown",
   "metadata": {},
   "source": [
    "##### 2.5.1 Variable Age <a class=\"anchor\" id=\"section_2_5_1\"></a>"
   ]
  },
  {
   "cell_type": "markdown",
   "metadata": {},
   "source": [
    "- Die letzten Werte beinhalten Eingabefehler. Bevor der Datentyp umgewandelt werden kann müssen die zwei Punkte (..) nach den Zahlen entfernt werden. "
   ]
  },
  {
   "cell_type": "code",
   "execution_count": 5,
   "metadata": {},
   "outputs": [
    {
     "data": {
      "text/plain": [
       "array(['44', '76', '47', '21', '29', '24', '23', '56', '32', '41', '71',\n",
       "       '37', '25', '42', '60', '65', '49', '34', '51', '26', '57', '79',\n",
       "       '48', '45', '72', '30', '54', '27', '38', '22', '78', '20', '39',\n",
       "       '62', '58', '59', '63', '50', '67', '77', '28', '69', '52', '31',\n",
       "       '33', '43', '36', '53', '70', '46', '55', '40', '61', '75', '64',\n",
       "       '35', '66', '68', '74', '73', '84', '83', '81', '80', '133', '171',\n",
       "       '163', '144', '187', '203', '143', '123', '183', '167', '129',\n",
       "       '127', '142', '82', '175', '128', '150', '196', '154', '198',\n",
       "       '116', '152', '161', '114', '166', '124', '134', '173', '106',\n",
       "       '199', '162', '157', '132', '156', '119', '159', '85', '192',\n",
       "       '201', '177', '121', '160', '136', '148', '158', '113', '184',\n",
       "       '182', '122', '190', '174', '176', '195', '147', '189', nan, '181',\n",
       "       '188', '107', '145', '149', '137', '139', '126', '130', '202',\n",
       "       '138', '193', '109', '179', '155', '125', '172', '200', '135',\n",
       "       '205', '204', '180', '186', '194', '170', '146', '185', '197',\n",
       "       '169', '151', '131', '191', '141', '105', '112', '115', '153',\n",
       "       '118', '164', '140', '165', '111', '117', '120', '108', '168',\n",
       "       '178', '22..', '21..', '23..', '41..', '29..', '24..', '27..',\n",
       "       '44..', '64..', '46..', '45..', '30..', '77..', '32..', '25..',\n",
       "       '35..', '26..', '40..', '39..', '47..', '61..', '38..', '75..',\n",
       "       '50..', '28..', '57..', '42..', '51..', '55..', '59..', '33..',\n",
       "       '71..', '53..', '34..', '43..', '31..', '20..', '49..', '67..',\n",
       "       '72..', '54..', '69..', '73..', '52..', '68..', '48..', '74..',\n",
       "       '60..', '79..', '62..', '36..', '70..', '76..', '63..'],\n",
       "      dtype=object)"
      ]
     },
     "execution_count": 5,
     "metadata": {},
     "output_type": "execute_result"
    }
   ],
   "source": [
    "data[\"Age\"].unique()"
   ]
  },
  {
   "cell_type": "code",
   "execution_count": 6,
   "metadata": {},
   "outputs": [
    {
     "name": "stderr",
     "output_type": "stream",
     "text": [
      "C:\\Users\\tomiz\\AppData\\Local\\Temp/ipykernel_10776/2837412874.py:5: FutureWarning: The default value of regex will change from True to False in a future version. In addition, single character regular expressions will *not* be treated as literal strings when regex=True.\n",
      "  data[\"Age\"] = data[\"Age\"].str.replace(\".\", \"\")\n"
     ]
    }
   ],
   "source": [
    "# convert to string\n",
    "data[\"Age\"] = data[\"Age\"].astype(pd.StringDtype())\n",
    "\n",
    "# remove .. as this is what prevents us from propper type conversion\n",
    "data[\"Age\"] = data[\"Age\"].str.replace(\".\", \"\")\n",
    "\n",
    "# convert to int (no decimals observed in train data)\n",
    "data[\"Age\"] = data[\"Age\"].astype(\"Int64\")"
   ]
  },
  {
   "cell_type": "markdown",
   "metadata": {},
   "source": [
    "##### 2.5.2 Variablen Driving_License, Previously_Insured und Vehicle_Damage <a class=\"anchor\" id=\"section_2_5_2\"></a>"
   ]
  },
  {
   "cell_type": "markdown",
   "metadata": {},
   "source": [
    "- Die Spalten beinhalten fehlende Werte (NaN). Damit die fehlenden Werte ordnungsgemäß behandelt werden können, müssen die Spalten in den nullable Boolean Type gecastet werden."
   ]
  },
  {
   "cell_type": "code",
   "execution_count": 7,
   "metadata": {},
   "outputs": [
    {
     "name": "stdout",
     "output_type": "stream",
     "text": [
      "Driving_License: [False True nan]\n",
      "Previously_Insured: [False True nan]\n",
      "Vehicle_Damage: [True False nan]\n"
     ]
    }
   ],
   "source": [
    "print(\"Driving_License:\", data[\"Driving_License\"].unique())\n",
    "print(\"Previously_Insured:\", data[\"Previously_Insured\"].unique())\n",
    "print(\"Vehicle_Damage:\", data[\"Vehicle_Damage\"].unique())"
   ]
  },
  {
   "cell_type": "code",
   "execution_count": 8,
   "metadata": {},
   "outputs": [],
   "source": [
    "# convert each column\n",
    "data[\"Driving_License\"] = data[\"Driving_License\"].astype(pd.BooleanDtype())\n",
    "data[\"Previously_Insured\"] = data[\"Previously_Insured\"].astype(pd.BooleanDtype())\n",
    "data[\"Vehicle_Damage\"] = data[\"Vehicle_Damage\"].astype(pd.BooleanDtype())"
   ]
  },
  {
   "cell_type": "markdown",
   "metadata": {},
   "source": [
    "##### 2.5.3 Variable Gender <a class=\"anchor\" id=\"section_2_5_3\"></a>"
   ]
  },
  {
   "cell_type": "code",
   "execution_count": 9,
   "metadata": {},
   "outputs": [
    {
     "data": {
      "text/plain": [
       "array(['Male', 'Female', nan], dtype=object)"
      ]
     },
     "execution_count": 9,
     "metadata": {},
     "output_type": "execute_result"
    }
   ],
   "source": [
    "data[\"Gender\"].unique()"
   ]
  },
  {
   "cell_type": "code",
   "execution_count": 10,
   "metadata": {},
   "outputs": [],
   "source": [
    "data[\"Gender\"] = data[\"Gender\"].astype(\"category\")"
   ]
  },
  {
   "cell_type": "markdown",
   "metadata": {},
   "source": [
    "##### 2.5.4 Variable Region Code <a class=\"anchor\" id=\"section_2_5_4\"></a>"
   ]
  },
  {
   "cell_type": "markdown",
   "metadata": {},
   "source": [
    "- Der letzte Werte beinhaltet einen Eingabefehler. Bevor der Datentyp umgewandelt werden kann muss nach der 41.0 die zwei Rautezeichen (##) entfernt werden."
   ]
  },
  {
   "cell_type": "code",
   "execution_count": 11,
   "metadata": {},
   "outputs": [
    {
     "data": {
      "text/plain": [
       "array(['28.0', '3.0', '11.0', '41.0', '33.0', '6.0', '35.0', '50.0',\n",
       "       '15.0', '45.0', '8.0', '36.0', '30.0', '26.0', '16.0', '47.0',\n",
       "       '48.0', '19.0', '39.0', '23.0', '37.0', '5.0', '17.0', '2.0',\n",
       "       '7.0', '29.0', '46.0', '27.0', '25.0', '13.0', '18.0', '20.0',\n",
       "       '49.0', '22.0', '44.0', '0.0', '9.0', '31.0', '12.0', '34.0',\n",
       "       '21.0', '10.0', '14.0', '38.0', '24.0', '40.0', '43.0', '32.0',\n",
       "       '4.0', '51.0', '42.0', '1.0', '52.0', '41.0##'], dtype=object)"
      ]
     },
     "execution_count": 11,
     "metadata": {},
     "output_type": "execute_result"
    }
   ],
   "source": [
    "data[\"Region_Code\"].unique()"
   ]
  },
  {
   "cell_type": "code",
   "execution_count": 12,
   "metadata": {},
   "outputs": [],
   "source": [
    "# convert to string\n",
    "data[\"Region_Code\"] = data[\"Region_Code\"].astype(pd.StringDtype())\n",
    "\n",
    "# remove ## as this is what prevents us from propper type conversion\n",
    "data[\"Region_Code\"] = data[\"Region_Code\"].str.replace(\"##\", \"\")\n",
    "\n",
    "# convert to category as the region codes are similar to postal codes and have no order\n",
    "data[\"Region_Code\"] = data[\"Region_Code\"].astype(\"category\")"
   ]
  },
  {
   "cell_type": "markdown",
   "metadata": {},
   "source": [
    "##### 2.5.5 Variable Vehicle_Age <a class=\"anchor\" id=\"section_2_5_5\"></a>"
   ]
  },
  {
   "cell_type": "code",
   "execution_count": 13,
   "metadata": {},
   "outputs": [
    {
     "data": {
      "text/plain": [
       "array(['> 2 Years', '1-2 Year', '< 1 Year', nan], dtype=object)"
      ]
     },
     "execution_count": 13,
     "metadata": {},
     "output_type": "execute_result"
    }
   ],
   "source": [
    "data[\"Vehicle_Age\"].unique()"
   ]
  },
  {
   "cell_type": "code",
   "execution_count": 14,
   "metadata": {},
   "outputs": [],
   "source": [
    "# no cleanup required\n",
    "data[\"Vehicle_Age\"] = data[\"Vehicle_Age\"].astype(\"category\")"
   ]
  },
  {
   "cell_type": "markdown",
   "metadata": {},
   "source": [
    "##### 2.5.6 Variable Policy_Sales_Channel <a class=\"anchor\" id=\"section_2_5_6\"></a>"
   ]
  },
  {
   "cell_type": "markdown",
   "metadata": {},
   "source": [
    "- Ein Wert beinhaltet einen Eingabefehler. Bevor der Datentyp umgewandelt werden kann muss nach der 26.0 die zwei Rautezeichen (##) entfernt werden."
   ]
  },
  {
   "cell_type": "code",
   "execution_count": 15,
   "metadata": {},
   "outputs": [
    {
     "data": {
      "text/plain": [
       "array(['26.0', '152.0', '160.0', '124.0', '14.0', '13.0', '30.0', '156.0',\n",
       "       '163.0', '157.0', '122.0', '19.0', '22.0', '15.0', '154.0', '16.0',\n",
       "       '52.0', '155.0', '11.0', '151.0', '125.0', '25.0', '61.0', '1.0',\n",
       "       '86.0', '31.0', '150.0', '23.0', '60.0', '21.0', '121.0', '3.0',\n",
       "       '139.0', '12.0', '29.0', '55.0', '7.0', '47.0', '127.0', '153.0',\n",
       "       '78.0', '158.0', '89.0', '32.0', '8.0', '10.0', '120.0', '65.0',\n",
       "       '4.0', '42.0', '83.0', '136.0', '24.0', '18.0', '56.0', '48.0',\n",
       "       '106.0', '54.0', '93.0', '116.0', '91.0', '45.0', '9.0', '145.0',\n",
       "       '147.0', '44.0', '109.0', '37.0', '140.0', '107.0', '128.0',\n",
       "       '131.0', '114.0', '118.0', '159.0', '119.0', '105.0', '135.0',\n",
       "       '62.0', '138.0', '129.0', '88.0', '92.0', '111.0', '113.0', '73.0',\n",
       "       '36.0', '28.0', '35.0', '59.0', '53.0', '148.0', '133.0', '108.0',\n",
       "       '64.0', '39.0', '94.0', '132.0', '46.0', '81.0', '103.0', '90.0',\n",
       "       '51.0', '27.0', '146.0', '63.0', '96.0', '40.0', '66.0', '100.0',\n",
       "       '95.0', '123.0', '98.0', '75.0', '69.0', '130.0', '134.0', '49.0',\n",
       "       '97.0', '38.0', '17.0', '110.0', '80.0', '71.0', '26.0##', '117.0',\n",
       "       '58.0', '20.0', '76.0', '104.0', '87.0', '84.0', '137.0', '126.0',\n",
       "       '68.0', '67.0', '101.0', '115.0', '57.0', '82.0', '79.0', '112.0',\n",
       "       '99.0', '70.0', '2.0', '34.0', '33.0', '74.0', '102.0', '149.0',\n",
       "       '43.0', '6.0', '50.0', '144.0', '143.0', '41.0'], dtype=object)"
      ]
     },
     "execution_count": 15,
     "metadata": {},
     "output_type": "execute_result"
    }
   ],
   "source": [
    "data[\"Policy_Sales_Channel\"].unique()"
   ]
  },
  {
   "cell_type": "code",
   "execution_count": 16,
   "metadata": {},
   "outputs": [],
   "source": [
    "# remove ## as this is what prevents us from propper type conversion\n",
    "data[\"Policy_Sales_Channel\"] = data[\"Policy_Sales_Channel\"].str.replace(\"##\", \"\")\n",
    "\n",
    "data[\"Policy_Sales_Channel\"] = data[\"Policy_Sales_Channel\"].astype(\"category\")"
   ]
  },
  {
   "cell_type": "markdown",
   "metadata": {},
   "source": [
    "##### 2.5.7 Variable Vintage <a class=\"anchor\" id=\"section_2_5_7\"></a>"
   ]
  },
  {
   "cell_type": "markdown",
   "metadata": {},
   "source": [
    "- Ein Wert beinhaltet einen Eingabefehler. Bevor der Datentyp umgewandelt werden kann muss nach der 81 die zwei Rautezeichen (##) entfernt werden.\n",
    "- Der Numpy-Datentyp `int64` unterstützt keine nullable Values (NaN), deshalb wird der Pandas-Datentyp `Int64` verwendet."
   ]
  },
  {
   "cell_type": "code",
   "execution_count": 17,
   "metadata": {},
   "outputs": [
    {
     "data": {
      "text/plain": [
       "array(['217', '183', '27', '203', '39', '176', '249', '72', '28', '80',\n",
       "       '46', '289', '221', '15', '58', '147', '256', '299', '158', '102',\n",
       "       '116', '177', '232', '60', '180', '49', '57', '223', '136', '222',\n",
       "       '149', '169', '88', '253', '107', '264', '233', '45', '184', '251',\n",
       "       '153', '186', '71', '34', '83', '12', '246', '141', '216', '130',\n",
       "       '282', '73', '171', '283', '295', '165', '30', '218', '22', '36',\n",
       "       '79', '81', '100', '63', '242', '277', '61', '111', '167', '74',\n",
       "       '235', '131', '243', '248', '114', '281', '62', '189', '139',\n",
       "       '138', '209', '254', '291', '68', '92', '52', '78', '156', '247',\n",
       "       '275', '77', '181', '229', '166', '16', '23', '31', '293', '219',\n",
       "       '50', '155', '66', '260', '19', '258', '117', '193', '204', '212',\n",
       "       '144', '234', '206', '228', '125', '29', '18', '84', '230', '54',\n",
       "       '123', '101', '86', '13', '237', '85', '98', '67', '128', '95',\n",
       "       '89', '99', '208', '134', '135', '268', '284', '119', '226', '105',\n",
       "       '142', '207', '272', '263', '64', '40', '245', '163', '24', '265',\n",
       "       '202', '259', '91', '106', '190', '162', '33', '194', '287', '292',\n",
       "       '69', '239', '132', '255', '152', '121', '150', '143', '198',\n",
       "       '103', '127', '285', '214', '151', '199', '56', '59', '215', '104',\n",
       "       '238', '120', '21', '32', '270', '211', '200', '197', '11', '213',\n",
       "       '93', '113', '178', '10', '290', '94', '231', '296', '47', '122',\n",
       "       '271', '278', '276', '96', '240', '172', '257', '224', '173',\n",
       "       '220', '185', '90', '51', '205', '70', '160', '137', '168', '87',\n",
       "       '118', '288', '126', '241', '82', '227', '115', '164', '236',\n",
       "       '286', '244', '108', '274', '201', '97', '25', '174', '182', '154',\n",
       "       '48', '20', '53', '17', '261', '41', '266', '35', '140', '269',\n",
       "       '146', '145', '65', '298', '133', '195', '55', '188', '75', '38',\n",
       "       '43', '110', '37', '129', '170', '109', '267', '279', '112', '280',\n",
       "       '76', '191', '26', '161', '179', '175', '252', '42', '124', '187',\n",
       "       '148', '294', '44', '157', '192', '262', '159', '210', '250', '14',\n",
       "       '273', '297', '225', '196', '81##', nan], dtype=object)"
      ]
     },
     "execution_count": 17,
     "metadata": {},
     "output_type": "execute_result"
    }
   ],
   "source": [
    "data[\"Vintage\"].unique()"
   ]
  },
  {
   "cell_type": "code",
   "execution_count": 18,
   "metadata": {},
   "outputs": [],
   "source": [
    "# convert to string\n",
    "data[\"Vintage\"] = data[\"Vintage\"].astype(pd.StringDtype())\n",
    "\n",
    "# remove ## as this is what prevents us from propper type conversion\n",
    "data[\"Vintage\"] = data[\"Vintage\"].str.replace(\"#\", \"\")\n",
    "\n",
    "# convert to category as the region codes are similar to postal codes and have no order\n",
    "data[\"Vintage\"] = data[\"Vintage\"].astype(\"Int64\")"
   ]
  },
  {
   "cell_type": "markdown",
   "metadata": {},
   "source": [
    "##### 2.5.8 Variable Unnamed: 0 <a class=\"anchor\" id=\"section_2_5_8\"></a>"
   ]
  },
  {
   "cell_type": "markdown",
   "metadata": {},
   "source": [
    "- Die Spalte Unnamed: 0 hat keine Information und wird entfernt."
   ]
  },
  {
   "cell_type": "code",
   "execution_count": 19,
   "metadata": {},
   "outputs": [],
   "source": [
    "data.drop(\"Unnamed: 0\", axis=\"columns\", inplace=True)"
   ]
  },
  {
   "cell_type": "markdown",
   "metadata": {},
   "source": [
    "##### 2.5.9 Angepasste Datentypen anzeigen <a class=\"anchor\" id=\"section_2_5_9\"></a>"
   ]
  },
  {
   "cell_type": "code",
   "execution_count": 23,
   "metadata": {},
   "outputs": [
    {
     "name": "stdout",
     "output_type": "stream",
     "text": [
      "<class 'pandas.core.frame.DataFrame'>\n",
      "RangeIndex: 380999 entries, 0 to 380998\n",
      "Data columns (total 12 columns):\n",
      " #   Column                Non-Null Count   Dtype   \n",
      "---  ------                --------------   -----   \n",
      " 0   id                    380999 non-null  int64   \n",
      " 1   Gender                379948 non-null  category\n",
      " 2   Age                   370107 non-null  Int64   \n",
      " 3   Driving_License       380948 non-null  boolean \n",
      " 4   Region_Code           380999 non-null  category\n",
      " 5   Previously_Insured    380948 non-null  boolean \n",
      " 6   Vehicle_Age           380948 non-null  category\n",
      " 7   Vehicle_Damage        380948 non-null  boolean \n",
      " 8   Annual_Premium        380999 non-null  float64 \n",
      " 9   Policy_Sales_Channel  380999 non-null  category\n",
      " 10  Vintage               380948 non-null  Int64   \n",
      " 11  Response              380999 non-null  bool    \n",
      "dtypes: Int64(2), bool(1), boolean(3), category(4), float64(1), int64(1)\n",
      "memory usage: 16.7 MB\n"
     ]
    }
   ],
   "source": [
    "data.info()"
   ]
  },
  {
   "cell_type": "markdown",
   "metadata": {},
   "source": [
    "#### 2.6 Deskriptive Analyse <a class=\"anchor\" id=\"section_2_6\"></a>"
   ]
  },
  {
   "cell_type": "markdown",
   "metadata": {},
   "source": [
    "##### 2.6.1 Kennzahlen zur Beschreibung des Datensatz <a class=\"anchor\" id=\"section_2_6_1\"></a>"
   ]
  },
  {
   "cell_type": "markdown",
   "metadata": {},
   "source": [
    "Folgende statistische Kennzahlen werden verwenden:"
   ]
  },
  {
   "cell_type": "code",
   "execution_count": 25,
   "metadata": {},
   "outputs": [
    {
     "data": {
      "text/html": [
       "<div>\n",
       "<style scoped>\n",
       "    .dataframe tbody tr th:only-of-type {\n",
       "        vertical-align: middle;\n",
       "    }\n",
       "\n",
       "    .dataframe tbody tr th {\n",
       "        vertical-align: top;\n",
       "    }\n",
       "\n",
       "    .dataframe thead th {\n",
       "        text-align: right;\n",
       "    }\n",
       "</style>\n",
       "<table border=\"1\" class=\"dataframe\">\n",
       "  <thead>\n",
       "    <tr style=\"text-align: right;\">\n",
       "      <th></th>\n",
       "      <th>count</th>\n",
       "      <th>unique</th>\n",
       "      <th>top</th>\n",
       "      <th>freq</th>\n",
       "      <th>mean</th>\n",
       "      <th>std</th>\n",
       "      <th>min</th>\n",
       "      <th>25%</th>\n",
       "      <th>50%</th>\n",
       "      <th>75%</th>\n",
       "      <th>max</th>\n",
       "    </tr>\n",
       "  </thead>\n",
       "  <tbody>\n",
       "    <tr>\n",
       "      <th>id</th>\n",
       "      <td>380999.0</td>\n",
       "      <td>NaN</td>\n",
       "      <td>NaN</td>\n",
       "      <td>NaN</td>\n",
       "      <td>190500.0</td>\n",
       "      <td>109985.081943</td>\n",
       "      <td>1.0</td>\n",
       "      <td>95250.5</td>\n",
       "      <td>190500.0</td>\n",
       "      <td>285749.5</td>\n",
       "      <td>380999.0</td>\n",
       "    </tr>\n",
       "    <tr>\n",
       "      <th>Gender</th>\n",
       "      <td>379948</td>\n",
       "      <td>2</td>\n",
       "      <td>Male</td>\n",
       "      <td>205447</td>\n",
       "      <td>NaN</td>\n",
       "      <td>NaN</td>\n",
       "      <td>NaN</td>\n",
       "      <td>NaN</td>\n",
       "      <td>NaN</td>\n",
       "      <td>NaN</td>\n",
       "      <td>NaN</td>\n",
       "    </tr>\n",
       "    <tr>\n",
       "      <th>Age</th>\n",
       "      <td>370107.0</td>\n",
       "      <td>NaN</td>\n",
       "      <td>NaN</td>\n",
       "      <td>NaN</td>\n",
       "      <td>38.852091</td>\n",
       "      <td>15.63218</td>\n",
       "      <td>20.0</td>\n",
       "      <td>25.0</td>\n",
       "      <td>36.0</td>\n",
       "      <td>49.0</td>\n",
       "      <td>205.0</td>\n",
       "    </tr>\n",
       "    <tr>\n",
       "      <th>Driving_License</th>\n",
       "      <td>380948</td>\n",
       "      <td>2</td>\n",
       "      <td>False</td>\n",
       "      <td>206635</td>\n",
       "      <td>NaN</td>\n",
       "      <td>NaN</td>\n",
       "      <td>NaN</td>\n",
       "      <td>NaN</td>\n",
       "      <td>NaN</td>\n",
       "      <td>NaN</td>\n",
       "      <td>NaN</td>\n",
       "    </tr>\n",
       "    <tr>\n",
       "      <th>Region_Code</th>\n",
       "      <td>380999</td>\n",
       "      <td>53</td>\n",
       "      <td>28.0</td>\n",
       "      <td>106372</td>\n",
       "      <td>NaN</td>\n",
       "      <td>NaN</td>\n",
       "      <td>NaN</td>\n",
       "      <td>NaN</td>\n",
       "      <td>NaN</td>\n",
       "      <td>NaN</td>\n",
       "      <td>NaN</td>\n",
       "    </tr>\n",
       "    <tr>\n",
       "      <th>Previously_Insured</th>\n",
       "      <td>380948</td>\n",
       "      <td>2</td>\n",
       "      <td>False</td>\n",
       "      <td>206635</td>\n",
       "      <td>NaN</td>\n",
       "      <td>NaN</td>\n",
       "      <td>NaN</td>\n",
       "      <td>NaN</td>\n",
       "      <td>NaN</td>\n",
       "      <td>NaN</td>\n",
       "      <td>NaN</td>\n",
       "    </tr>\n",
       "    <tr>\n",
       "      <th>Vehicle_Age</th>\n",
       "      <td>380948</td>\n",
       "      <td>3</td>\n",
       "      <td>1-2 Year</td>\n",
       "      <td>200228</td>\n",
       "      <td>NaN</td>\n",
       "      <td>NaN</td>\n",
       "      <td>NaN</td>\n",
       "      <td>NaN</td>\n",
       "      <td>NaN</td>\n",
       "      <td>NaN</td>\n",
       "      <td>NaN</td>\n",
       "    </tr>\n",
       "    <tr>\n",
       "      <th>Vehicle_Damage</th>\n",
       "      <td>380948</td>\n",
       "      <td>2</td>\n",
       "      <td>True</td>\n",
       "      <td>192328</td>\n",
       "      <td>NaN</td>\n",
       "      <td>NaN</td>\n",
       "      <td>NaN</td>\n",
       "      <td>NaN</td>\n",
       "      <td>NaN</td>\n",
       "      <td>NaN</td>\n",
       "      <td>NaN</td>\n",
       "    </tr>\n",
       "    <tr>\n",
       "      <th>Annual_Premium</th>\n",
       "      <td>380999.0</td>\n",
       "      <td>NaN</td>\n",
       "      <td>NaN</td>\n",
       "      <td>NaN</td>\n",
       "      <td>30527.70069</td>\n",
       "      <td>17242.997675</td>\n",
       "      <td>-9997.0</td>\n",
       "      <td>24371.0</td>\n",
       "      <td>31656.0</td>\n",
       "      <td>39390.0</td>\n",
       "      <td>540165.0</td>\n",
       "    </tr>\n",
       "    <tr>\n",
       "      <th>Policy_Sales_Channel</th>\n",
       "      <td>380999</td>\n",
       "      <td>155</td>\n",
       "      <td>152.0</td>\n",
       "      <td>134747</td>\n",
       "      <td>NaN</td>\n",
       "      <td>NaN</td>\n",
       "      <td>NaN</td>\n",
       "      <td>NaN</td>\n",
       "      <td>NaN</td>\n",
       "      <td>NaN</td>\n",
       "      <td>NaN</td>\n",
       "    </tr>\n",
       "    <tr>\n",
       "      <th>Vintage</th>\n",
       "      <td>380948.0</td>\n",
       "      <td>NaN</td>\n",
       "      <td>NaN</td>\n",
       "      <td>NaN</td>\n",
       "      <td>154.344475</td>\n",
       "      <td>83.673075</td>\n",
       "      <td>10.0</td>\n",
       "      <td>82.0</td>\n",
       "      <td>154.0</td>\n",
       "      <td>227.0</td>\n",
       "      <td>299.0</td>\n",
       "    </tr>\n",
       "    <tr>\n",
       "      <th>Response</th>\n",
       "      <td>380999</td>\n",
       "      <td>2</td>\n",
       "      <td>False</td>\n",
       "      <td>334297</td>\n",
       "      <td>NaN</td>\n",
       "      <td>NaN</td>\n",
       "      <td>NaN</td>\n",
       "      <td>NaN</td>\n",
       "      <td>NaN</td>\n",
       "      <td>NaN</td>\n",
       "      <td>NaN</td>\n",
       "    </tr>\n",
       "  </tbody>\n",
       "</table>\n",
       "</div>"
      ],
      "text/plain": [
       "                         count unique       top    freq         mean  \\\n",
       "id                    380999.0    NaN       NaN     NaN     190500.0   \n",
       "Gender                  379948      2      Male  205447          NaN   \n",
       "Age                   370107.0    NaN       NaN     NaN    38.852091   \n",
       "Driving_License         380948      2     False  206635          NaN   \n",
       "Region_Code             380999     53      28.0  106372          NaN   \n",
       "Previously_Insured      380948      2     False  206635          NaN   \n",
       "Vehicle_Age             380948      3  1-2 Year  200228          NaN   \n",
       "Vehicle_Damage          380948      2      True  192328          NaN   \n",
       "Annual_Premium        380999.0    NaN       NaN     NaN  30527.70069   \n",
       "Policy_Sales_Channel    380999    155     152.0  134747          NaN   \n",
       "Vintage               380948.0    NaN       NaN     NaN   154.344475   \n",
       "Response                380999      2     False  334297          NaN   \n",
       "\n",
       "                                std     min      25%       50%       75%  \\\n",
       "id                    109985.081943     1.0  95250.5  190500.0  285749.5   \n",
       "Gender                          NaN     NaN      NaN       NaN       NaN   \n",
       "Age                        15.63218    20.0     25.0      36.0      49.0   \n",
       "Driving_License                 NaN     NaN      NaN       NaN       NaN   \n",
       "Region_Code                     NaN     NaN      NaN       NaN       NaN   \n",
       "Previously_Insured              NaN     NaN      NaN       NaN       NaN   \n",
       "Vehicle_Age                     NaN     NaN      NaN       NaN       NaN   \n",
       "Vehicle_Damage                  NaN     NaN      NaN       NaN       NaN   \n",
       "Annual_Premium         17242.997675 -9997.0  24371.0   31656.0   39390.0   \n",
       "Policy_Sales_Channel            NaN     NaN      NaN       NaN       NaN   \n",
       "Vintage                   83.673075    10.0     82.0     154.0     227.0   \n",
       "Response                        NaN     NaN      NaN       NaN       NaN   \n",
       "\n",
       "                           max  \n",
       "id                    380999.0  \n",
       "Gender                     NaN  \n",
       "Age                      205.0  \n",
       "Driving_License            NaN  \n",
       "Region_Code                NaN  \n",
       "Previously_Insured         NaN  \n",
       "Vehicle_Age                NaN  \n",
       "Vehicle_Damage             NaN  \n",
       "Annual_Premium        540165.0  \n",
       "Policy_Sales_Channel       NaN  \n",
       "Vintage                  299.0  \n",
       "Response                   NaN  "
      ]
     },
     "execution_count": 25,
     "metadata": {},
     "output_type": "execute_result"
    }
   ],
   "source": [
    "kennzahlen = pd.DataFrame(data)\n",
    "kennzahlen.describe(include = \"all\").transpose()"
   ]
  },
  {
   "cell_type": "markdown",
   "metadata": {},
   "source": [
    "Auffälligkeiten einzelner Variablen anhand der statistischen Kennzahlen werden im nachfolgenden näher erläutert:"
   ]
  },
  {
   "cell_type": "markdown",
   "metadata": {},
   "source": [
    "| **Variable**          | **Beschreibung**  | \n",
    "|          :-           |         :-        |\n",
    "| ID                    |- Beginnt bei 1 und endet bei 380.999 <br> - weißt keine Auffälligkeiten auf| \n",
    "| Gender                |- Das Geschlecht \"Male\" kommt am häufigsten vor mit 205.447 Datensätzen <br> - 2 verschiedene Ausprägungen <br> - 1051 Datensätze fehlen (Vergleich von 379.948 zu 380.999 Datensätzen)               | \n",
    "| Age                   |- min. = 20 Jahre alt nicht auffällig <br> - Im Durchschnitt 39 Jahre alt <br> - max. = 205 Jahre alt <br> - 10.892 Datensätze fehlen (Vergleich von 370.107 zu 380.999 Datensätzen) | \n",
    "| Driving_License       |- Mehr Personen haben keinen Führerschein mit 206.635 Datensätzen als das Sie einen Führerschein haben <br> - 2 verschiedene Ausprägungen <br> - 51 Datensätze fehlen (Vergleich von 380.948 zu 380.999 Datensätzen)                    | \n",
    "| Region_Code           |- Die PLZ 28.0 kommt am häufigsten vor mit 106.372 Datensätzen <br> - 53 verschiedene Ausprägungen| \n",
    "| Previously_Insured    |- Mehr Personen haben keine Versicherung mit 206.635 Datensätzen als das Sie eine Versicherung haben <br> - 2 verschiedene Ausprägungen <br> - 51 Datensätze fehlen (Vergleich von 380.948 zu 380.999 Datensätzen)                   | \n",
    "| Vehicle_Age           |- Das Alter des Fahrzeugs beläuft sich auf bei den meisten Personen auf 1-2 Jahre mit 380.948 Datensätzen <br> - 3 verschiedene Ausprägungen <br> - 51 Datensätze fehlen (Vergleich von 380.948 zu 380.999 Datensätzen)                   | \n",
    "| Vehicle_Damage        |- Bei mehr Personen, 192.328 Datensätze, ist es zu einer Beschädigung des Fahrzeugs gekommen <br> - 2 verschiedene Ausprägungen <br> - 51 Datensätze fehlen (Vergleich von 380.948 zu 380.999 Datensätzen) | \n",
    "| Annual_Premium        |- min. = - -9997.0€ auffällig, da der Betrag den die Kunden zahlen müssen nicht negativ sein kann. <br> - Im Durchschnitt 30.527.71€ <br> - max. = 540.165€ auffällig, da der Betrag deutlich zu hoch ist| \n",
    "| Policy_Sales_Channel  |- <br> - 155 verschiedene Ausprägungen                   | \n",
    "| Vintage               |- min. = 10 Tage <br> - Im Durchschnitt 154 Tage <br> - max. = 299 Tage <br> - 51 Datensätze fehlen (Vergleich von 380.948 zu 380.999 Datensätzen) | \n",
    "| Response              |- Mehr Personen sind nicht interessiert mit 334297\tDatensätzen <br> - 2 verschiedene Ausprägungen| \n"
   ]
  }
 ],
 "metadata": {
  "interpreter": {
   "hash": "636088ffbd2e162864942ceb92200db462cb0bed77ed962033db15e6c05a945f"
  },
  "kernelspec": {
   "display_name": "Python 3.10.1 64-bit",
   "language": "python",
   "name": "python3"
  },
  "language_info": {
   "codemirror_mode": {
    "name": "ipython",
    "version": 3
   },
   "file_extension": ".py",
   "mimetype": "text/x-python",
   "name": "python",
   "nbconvert_exporter": "python",
   "pygments_lexer": "ipython3",
   "version": "3.10.1"
  },
  "orig_nbformat": 4
 },
 "nbformat": 4,
 "nbformat_minor": 2
}
